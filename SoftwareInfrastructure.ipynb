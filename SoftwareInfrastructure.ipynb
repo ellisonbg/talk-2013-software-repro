{
 "metadata": {
  "name": "SoftwareInfrastructure"
 },
 "nbformat": 3,
 "nbformat_minor": 0,
 "worksheets": [
  {
   "cells": [
    {
     "cell_type": "heading",
     "level": 1,
     "metadata": {
      "slideshow": {
       "slide_type": "slide"
      }
     },
     "source": [
      "The IPython Notebook"
     ]
    },
    {
     "cell_type": "heading",
     "level": 2,
     "metadata": {},
     "source": [
      "Software Infrastructure for Reproducibility"
     ]
    },
    {
     "cell_type": "heading",
     "level": 2,
     "metadata": {},
     "source": [
      "Brian E. Granger"
     ]
    },
    {
     "cell_type": "markdown",
     "metadata": {
      "slideshow": {
       "slide_type": "slide"
      }
     },
     "source": [
      "I **teach** Physics and do **research** with undergraduates:\n",
      "\n",
      "<img src=\"files/figures/calpoly_logo.png\" width=400/>"
     ]
    },
    {
     "cell_type": "markdown",
     "metadata": {
      "slideshow": {
       "slide_type": "-"
      }
     },
     "source": [
      "I am a **developer** of tools for scientific and technical computing:\n",
      "\n",
      "<img src=\"files/figures/logo.png\" width=400/>"
     ]
    },
    {
     "cell_type": "heading",
     "level": 2,
     "metadata": {},
     "source": [
      "Research workflows and reproducibility"
     ]
    },
    {
     "cell_type": "markdown",
     "metadata": {},
     "source": [
      "The research workflow:\n",
      "\n",
      "* Research requires a series of **tasks**\n",
      "* A sequence of tasks is a **workflow**\n",
      "* The goal of that workflow is to tell a **story**\n",
      "* The exploratory nature of research means that the steps and workflow are ever changing\n",
      "* Reproducibility enables other people to explore, verify, modify and retell that story for themselves."
     ]
    },
    {
     "cell_type": "markdown",
     "metadata": {},
     "source": [
      "These workflows span the entire **lifecycle** of scientific computing:\n",
      "\n",
      "* Individual exploration\n",
      "* Collaborative development\n",
      "* Production execution\n",
      "* Debugging\n",
      "* Publication\n",
      "* Presentation\n",
      "* Education\n",
      "\n",
      "This lifecycle, and thus reproducibility, includes publication, presentation and education. If you change a parameter in a calculation, which changes a figure, your conference talk and class lecture notes need to be updated."
     ]
    },
    {
     "cell_type": "heading",
     "level": 2,
     "metadata": {},
     "source": [
      "What is our tool?"
     ]
    },
    {
     "cell_type": "markdown",
     "metadata": {},
     "source": [
      "http://ipython.org\n",
      "\n",
      "<img src=\"files/figures/logo.png\" width=400/>\n",
      "\n",
      "The IPython Notebook is a web-based **computing environment** and **open document format** for telling stories with code and data that are:\n",
      "\n",
      "* Interactive\n",
      "* Exploratory\n",
      "* Collaborative\n",
      "* Open\n",
      "* Reproducible\n",
      "\n",
      "We are focused on stories that involve **code** and **data**."
     ]
    },
    {
     "cell_type": "heading",
     "level": 2,
     "metadata": {},
     "source": [
      "Reproducibility demo"
     ]
    },
    {
     "cell_type": "markdown",
     "metadata": {},
     "source": [
      "Zach Sailer is a Cal Poly senior physics major who has done his senior thesis on liquid crystals using the IPython Notebook. He has posted his data and notebooks on GitHub:\n",
      "\n",
      "https://github.com/Zsailer/calpolythesis\n",
      "\n",
      "Let's reproduce his research!"
     ]
    },
    {
     "cell_type": "code",
     "collapsed": false,
     "input": [
      "%%capture\n",
      "!rm -rf calpolythesis\n",
      "!git clone git://github.com/Zsailer/calpolythesis.git;"
     ],
     "language": "python",
     "metadata": {},
     "outputs": []
    },
    {
     "cell_type": "markdown",
     "metadata": {},
     "source": [
      "Important points:\n",
      "\n",
      "* I can tweet about it - only a single click in a browser to view it\n",
      "* It is version controlled on a public GitHub repo - completely transparent\n",
      "* I can run it myself in a short amount of time - download and click \"Run All\"\n",
      "* I can hack on it myself - git clone"
     ]
    },
    {
     "cell_type": "heading",
     "level": 2,
     "metadata": {},
     "source": [
      "How does a user install our tool?"
     ]
    },
    {
     "cell_type": "markdown",
     "metadata": {},
     "source": [
      "1. They don't, it is a web application so they only need a modern web browser\n",
      "\n",
      "2. Someone has to run the IPython Notebook server:\n",
      "\n",
      "\n",
      "* In the cloud\n",
      "\t- [PiCloud](http://www.picloud.com/platform/notebook/)\n",
      "\t- [Wakari](https://www.wakari.io/)\n",
      "\t- [StarCluster](http://star.mit.edu/cluster/)\n",
      "* Double clickable installers\n",
      "\t- Continuum's [Anaconda](https://store.continuum.io/cshop/anaconda/)\n",
      "\t- [Enthought Python Distribution (EPD)](https://enthought.com/products/epd/)\n",
      "\t- Enthought's [Canopy](https://enthought.com/products/canopy/)\n",
      "* Python packaging managers\n",
      "\t- pip\n",
      "\t- easy_install\n",
      "* Linux package managers\n",
      "\t- apt\n",
      "\t- yum\n",
      "* From source (https://github.com/ipython/ipython)"
     ]
    },
    {
     "cell_type": "heading",
     "level": 2,
     "metadata": {},
     "source": [
      "What types of research steps can our tool capture?"
     ]
    },
    {
     "cell_type": "heading",
     "level": 3,
     "metadata": {},
     "source": [
      "Code"
     ]
    },
    {
     "cell_type": "markdown",
     "metadata": {},
     "source": [
      "The IPython Notebook is first and foremost an environment for writing and running code in many languages."
     ]
    },
    {
     "cell_type": "heading",
     "level": 4,
     "metadata": {},
     "source": [
      "Python"
     ]
    },
    {
     "cell_type": "markdown",
     "metadata": {},
     "source": [
      "Python code can be run interactively:"
     ]
    },
    {
     "cell_type": "code",
     "collapsed": false,
     "input": [
      "import time\n",
      "for i in range(5):\n",
      "    print i\n",
      "    time.sleep(1)"
     ],
     "language": "python",
     "metadata": {},
     "outputs": [
      {
       "output_type": "stream",
       "stream": "stdout",
       "text": [
        "0\n",
        "1"
       ]
      },
      {
       "output_type": "stream",
       "stream": "stdout",
       "text": [
        "\n",
        "2"
       ]
      },
      {
       "output_type": "stream",
       "stream": "stdout",
       "text": [
        "\n",
        "3"
       ]
      },
      {
       "output_type": "stream",
       "stream": "stdout",
       "text": [
        "\n",
        "4"
       ]
      },
      {
       "output_type": "stream",
       "stream": "stdout",
       "text": [
        "\n"
       ]
      }
     ],
     "prompt_number": 10
    },
    {
     "cell_type": "markdown",
     "metadata": {},
     "source": [
      "We have integrated support for plotting with Matplotlib:"
     ]
    },
    {
     "cell_type": "code",
     "collapsed": false,
     "input": [
      "%pylab inline"
     ],
     "language": "python",
     "metadata": {},
     "outputs": [
      {
       "output_type": "stream",
       "stream": "stdout",
       "text": [
        "\n",
        "Welcome to pylab, a matplotlib-based Python environment [backend: module://IPython.kernel.zmq.pylab.backend_inline].\n",
        "For more information, type 'help(pylab)'.\n"
       ]
      }
     ],
     "prompt_number": 28
    },
    {
     "cell_type": "code",
     "collapsed": false,
     "input": [
      "scatter(rand(25),rand(25))"
     ],
     "language": "python",
     "metadata": {},
     "outputs": [
      {
       "metadata": {},
       "output_type": "pyout",
       "prompt_number": 29,
       "text": [
        "<matplotlib.collections.PathCollection at 0x10ef5d390>"
       ]
      },
      {
       "metadata": {},
       "output_type": "display_data",
       "png": "[encoded data removed]",
       "text": [
        "<matplotlib.figure.Figure at 0x10f93dc90>"
       ]
      }
     ],
     "prompt_number": 29
    },
    {
     "cell_type": "heading",
     "level": 4,
     "metadata": {},
     "source": [
      "R"
     ]
    },
    {
     "cell_type": "markdown",
     "metadata": {},
     "source": [
      "Using IPython's \"cell magic\" syntax `%%R` you can run code in other languages such as R:"
     ]
    },
    {
     "cell_type": "code",
     "collapsed": false,
     "input": [
      "%load_ext rmagic"
     ],
     "language": "python",
     "metadata": {},
     "outputs": [],
     "prompt_number": 13
    },
    {
     "cell_type": "markdown",
     "metadata": {},
     "source": [
      "Create two Python arrays:"
     ]
    },
    {
     "cell_type": "code",
     "collapsed": false,
     "input": [
      "import numpy as np\n",
      "X = np.array([0,1,2,3,4])\n",
      "Y = np.array([3,5,4,6,7])"
     ],
     "language": "python",
     "metadata": {},
     "outputs": [],
     "prompt_number": 14
    },
    {
     "cell_type": "markdown",
     "metadata": {},
     "source": [
      "Make a scatter plot in Python:"
     ]
    },
    {
     "cell_type": "code",
     "collapsed": false,
     "input": [
      "scatter(X,Y)"
     ],
     "language": "python",
     "metadata": {},
     "outputs": [
      {
       "metadata": {},
       "output_type": "pyout",
       "prompt_number": 15,
       "text": [
        "<matplotlib.collections.PathCollection at 0x10ac0ad10>"
       ]
      },
      {
       "metadata": {},
       "output_type": "display_data",
       "png": "[encoded data removed]",
       "text": [
        "<matplotlib.figure.Figure at 0x108d5fed0>"
       ]
      }
     ],
     "prompt_number": 15
    },
    {
     "cell_type": "markdown",
     "metadata": {},
     "source": [
      "Now pass those arrays to R and fit a linear model:"
     ]
    },
    {
     "cell_type": "code",
     "collapsed": false,
     "input": [
      "%%R -i X,Y -o XYcoef\n",
      "XYlm = lm(Y~X)\n",
      "XYcoef = coef(XYlm)\n",
      "print(summary(XYlm))\n",
      "par(mfrow=c(2,2))\n",
      "plot(XYlm)"
     ],
     "language": "python",
     "metadata": {},
     "outputs": [
      {
       "metadata": {},
       "output_type": "display_data",
       "text": [
        "\n",
        "Call:\n",
        "lm(formula = Y ~ X)\n",
        "\n",
        "Residuals:\n",
        "   1    2    3    4    5 \n",
        "-0.2  0.9 -1.0  0.1  0.2 \n",
        "\n",
        "Coefficients:\n",
        "            Estimate Std. Error t value Pr(>|t|)  \n",
        "(Intercept)   3.2000     0.6164   5.191   0.0139 *\n",
        "X             0.9000     0.2517   3.576   0.0374 *\n",
        "---\n",
        "Signif. codes:  0 \u2018***\u2019 0.001 \u2018**\u2019 0.01 \u2018*\u2019 0.05 \u2018.\u2019 0.1 \u2018 \u2019 1\n",
        "\n",
        "Residual standard error: 0.7958 on 3 degrees of freedom\n",
        "Multiple R-squared:   0.81,\tAdjusted R-squared:  0.7467 \n",
        "F-statistic: 12.79 on 1 and 3 DF,  p-value: 0.03739\n",
        "\n"
       ]
      },
      {
       "metadata": {},
       "output_type": "display_data",
       "png": "[encoded data removed]"
      }
     ],
     "prompt_number": 16
    },
    {
     "cell_type": "heading",
     "level": 4,
     "metadata": {},
     "source": [
      "Ruby"
     ]
    },
    {
     "cell_type": "code",
     "collapsed": false,
     "input": [
      "%%ruby\n",
      "puts \"Hello from Ruby #{RUBY_VERSION}\""
     ],
     "language": "python",
     "metadata": {},
     "outputs": [
      {
       "output_type": "stream",
       "stream": "stdout",
       "text": [
        "Hello from Ruby 1.8.7\n"
       ]
      }
     ],
     "prompt_number": 17
    },
    {
     "cell_type": "heading",
     "level": 4,
     "metadata": {},
     "source": [
      "Bash"
     ]
    },
    {
     "cell_type": "code",
     "collapsed": false,
     "input": [
      "%%bash\n",
      "echo \"hello from $BASH\""
     ],
     "language": "python",
     "metadata": {},
     "outputs": [
      {
       "output_type": "stream",
       "stream": "stdout",
       "text": [
        "hello from /bin/bash\n"
       ]
      }
     ],
     "prompt_number": 18
    },
    {
     "cell_type": "heading",
     "level": 4,
     "metadata": {},
     "source": [
      "Other languages"
     ]
    },
    {
     "cell_type": "markdown",
     "metadata": {},
     "source": [
      "The IPython notebook supports other languages through two routes:\n",
      "\n",
      "* Cell magics using the `%%language` syntax\n",
      "* Native kernels that speak the IPython message protocol\n",
      "\n",
      "Incomplete and growing list:\n",
      "\n",
      "* Perl\n",
      "* Cython\n",
      "* Octave\n",
      "* MATLAB\n",
      "* node.js\n",
      "* Julia\n",
      "* JavaScript"
     ]
    },
    {
     "cell_type": "heading",
     "level": 3,
     "metadata": {},
     "source": [
      "Descriptive text + Equations + HTML"
     ]
    },
    {
     "cell_type": "markdown",
     "metadata": {},
     "source": [
      "This is a block of descriptive text. It uses the popular Markdown syntax that is documented [here](http://daringfireball.net/projects/markdown/syntax). We have extended Markdown to understand LaTeX equations (using [MathJax](http://www.mathjax.org/)). If you are a physicist you might want to show Maxwell's equations:\n",
      "\n",
      "\\begin{aligned}\n",
      "\\nabla \\times \\vec{\\mathbf{B}} -\\, \\frac1c\\, \\frac{\\partial\\vec{\\mathbf{E}}}{\\partial t} & = \\frac{4\\pi}{c}\\vec{\\mathbf{j}} \\\\\n",
      "\\nabla \\cdot \\vec{\\mathbf{E}} & = 4 \\pi \\rho \\\\\n",
      "\\nabla \\times \\vec{\\mathbf{E}}\\, +\\, \\frac1c\\, \\frac{\\partial\\vec{\\mathbf{B}}}{\\partial t} & = \\vec{\\mathbf{0}} \\\\\n",
      "\\nabla \\cdot \\vec{\\mathbf{B}} & = 0 \\end{aligned}\n",
      "\n",
      "Or possibly some inline math, such as Newton's 2nd law, $\\vec{F} = m\\vec{a}$."
     ]
    },
    {
     "cell_type": "markdown",
     "metadata": {},
     "source": [
      "Markdown is a superset of HTML so you can also include arbitrary HTML in your text cells. This includes tables:\n",
      "\n",
      "<table>\n",
      "<tr>\n",
      "<th>Header 1</th>\n",
      "<th>Header 2</th>\n",
      "</tr>\n",
      "<tr>\n",
      "<td>row 1, cell 1</td>\n",
      "<td>row 1, cell 2</td>\n",
      "</tr>\n",
      "<tr>\n",
      "<td>row 2, cell 1</td>\n",
      "<td>row 2, cell 2</td>\n",
      "</tr>\n",
      "</table>\n",
      "\n",
      "Images from the internet or local file system:\n",
      "\n",
      "<img src=\"https://pbs.twimg.com/media/BBBnRcSCQAEcGg3.jpg:small\" width=400/>"
     ]
    },
    {
     "cell_type": "heading",
     "level": 3,
     "metadata": {},
     "source": [
      "Output"
     ]
    },
    {
     "cell_type": "markdown",
     "metadata": {},
     "source": [
      "When you run code, it can produce output. In IPython, our notion of output is very general and includes:\n",
      "\n",
      "* Text\n",
      "* Equations\n",
      "* Images\n",
      "* Videos\n",
      "* Figures\n",
      "* JavaScript widgets\n",
      "* HTML\n",
      "\n",
      "Objects can declare special logic that is used to render and display these different representations."
     ]
    },
    {
     "cell_type": "heading",
     "level": 4,
     "metadata": {},
     "source": [
      "Equations"
     ]
    },
    {
     "cell_type": "markdown",
     "metadata": {},
     "source": [
      "IPython has a `Math` object whose representation is a LaTeX formula. The Notebook detects that representation is renders it using MathJax:"
     ]
    },
    {
     "cell_type": "code",
     "collapsed": false,
     "input": [
      "from IPython.display import Math\n",
      "Math(r'F(k) = \\int_{-\\infty}^{\\infty} f(x) e^{2\\pi i k} dx')"
     ],
     "language": "python",
     "metadata": {},
     "outputs": [
      {
       "latex": [
        "$$F(k) = \\int_{-\\infty}^{\\infty} f(x) e^{2\\pi i k} dx$$"
       ],
       "metadata": {},
       "output_type": "pyout",
       "prompt_number": 1,
       "text": [
        "<IPython.core.display.Math at 0x108128890>"
       ]
      }
     ],
     "prompt_number": 1
    },
    {
     "cell_type": "markdown",
     "metadata": {},
     "source": [
      "This enables equation-using libraries, such as SymPy, to provide nice LaTeX rendering in the Notebook of live computational objects:"
     ]
    },
    {
     "cell_type": "code",
     "collapsed": false,
     "input": [
      "%load_ext sympy.interactive.ipythonprinting"
     ],
     "language": "python",
     "metadata": {},
     "outputs": [
      {
       "output_type": "stream",
       "stream": "stdout",
       "text": [
        "The sympy.interactive.ipythonprinting extension is already loaded. To reload it, use:\n",
        "  %reload_ext sympy.interactive.ipythonprinting\n"
       ]
      }
     ],
     "prompt_number": 16
    },
    {
     "cell_type": "code",
     "collapsed": false,
     "input": [
      "from sympy import *\n",
      "x = symbols(\"x\")\n",
      "(1/cos(x)).series(x, 0, 10)"
     ],
     "language": "python",
     "metadata": {},
     "outputs": [
      {
       "latex": [
        "$$1 + \\frac{1}{2} x^{2} + \\frac{5}{24} x^{4} + \\frac{61}{720} x^{6} + \\frac{277}{8064} x^{8} + \\mathcal{O}\\left(x^{10}\\right)$$"
       ],
       "metadata": {},
       "output_type": "pyout",
       "png": "[encoded data removed]",
       "prompt_number": 18,
       "text": [
        "     2      4       6        8         \n",
        "    x    5\u22c5x    61\u22c5x    277\u22c5x     \u239b 10\u239e\n",
        "1 + \u2500\u2500 + \u2500\u2500\u2500\u2500 + \u2500\u2500\u2500\u2500\u2500 + \u2500\u2500\u2500\u2500\u2500\u2500 + O\u239dx  \u23a0\n",
        "    2     24     720     8064          "
       ]
      }
     ],
     "prompt_number": 18
    },
    {
     "cell_type": "heading",
     "level": 4,
     "metadata": {},
     "source": [
      "Images"
     ]
    },
    {
     "cell_type": "markdown",
     "metadata": {},
     "source": [
      "Objects can declare image representations:"
     ]
    },
    {
     "cell_type": "code",
     "collapsed": false,
     "input": [
      "from IPython.display import Image\n",
      "Image('figures/logo.png')"
     ],
     "language": "python",
     "metadata": {},
     "outputs": [
      {
       "metadata": {},
       "output_type": "pyout",
       "png": "[encoded data removed]",
       "prompt_number": 14,
       "text": [
        "<IPython.core.display.Image at 0x10df4bf10>"
       ]
      }
     ],
     "prompt_number": 14
    },
    {
     "cell_type": "heading",
     "level": 4,
     "metadata": {},
     "source": [
      "HTML"
     ]
    },
    {
     "cell_type": "markdown",
     "metadata": {},
     "source": [
      "HTML representations are rendered as expected in the Notebook:"
     ]
    },
    {
     "cell_type": "code",
     "collapsed": false,
     "input": [
      "from IPython.display import HTML, display"
     ],
     "language": "python",
     "metadata": {},
     "outputs": [],
     "prompt_number": 8
    },
    {
     "cell_type": "code",
     "collapsed": false,
     "input": [
      "s = \"\"\"<table>\n",
      "<tr>\n",
      "<th>Header 1</th>\n",
      "<th>Header 2</th>\n",
      "</tr>\n",
      "<tr>\n",
      "<td>row 1, cell 1</td>\n",
      "<td>row 1, cell 2</td>\n",
      "</tr>\n",
      "<tr>\n",
      "<td>row 2, cell 1</td>\n",
      "<td>row 2, cell 2</td>\n",
      "</tr>\n",
      "</table>\"\"\""
     ],
     "language": "python",
     "metadata": {},
     "outputs": [],
     "prompt_number": 9
    },
    {
     "cell_type": "code",
     "collapsed": false,
     "input": [
      "h = HTML(s); display(h)"
     ],
     "language": "python",
     "metadata": {},
     "outputs": [
      {
       "html": [
        "<table>\n",
        "<tr>\n",
        "<th>Header 1</th>\n",
        "<th>Header 2</th>\n",
        "</tr>\n",
        "<tr>\n",
        "<td>row 1, cell 1</td>\n",
        "<td>row 1, cell 2</td>\n",
        "</tr>\n",
        "<tr>\n",
        "<td>row 2, cell 1</td>\n",
        "<td>row 2, cell 2</td>\n",
        "</tr>\n",
        "</table>"
       ],
       "metadata": {},
       "output_type": "display_data",
       "text": [
        "<IPython.core.display.HTML at 0x10df4bdd0>"
       ]
      }
     ],
     "prompt_number": 10
    },
    {
     "cell_type": "markdown",
     "metadata": {},
     "source": [
      "This enables third party libraries, such as Pandas, to provide nicely formatted HTML output of their objects:"
     ]
    },
    {
     "cell_type": "code",
     "collapsed": false,
     "input": [
      "import pandas\n",
      "pandas.core.format.set_printoptions(notebook_repr_html=True)"
     ],
     "language": "python",
     "metadata": {},
     "outputs": [],
     "prompt_number": 19
    },
    {
     "cell_type": "code",
     "collapsed": false,
     "input": [
      "%%file data.csv\n",
      "Date,Open,High,Low,Close,Volume,Adj Close\n",
      "2012-06-01,569.16,590.00,548.50,584.00,14077000,581.50\n",
      "2012-05-01,584.90,596.76,522.18,577.73,18827900,575.26\n",
      "2012-04-02,601.83,644.00,555.00,583.98,28759100,581.48\n",
      "2012-03-01,548.17,621.45,516.22,599.55,26486000,596.99\n",
      "2012-02-01,458.41,547.61,453.98,542.44,22001000,540.12\n",
      "2012-01-03,409.40,458.24,409.00,456.48,12949100,454.53"
     ],
     "language": "python",
     "metadata": {},
     "outputs": [
      {
       "output_type": "stream",
       "stream": "stdout",
       "text": [
        "Overwriting data.csv\n"
       ]
      }
     ],
     "prompt_number": 20
    },
    {
     "cell_type": "code",
     "collapsed": false,
     "input": [
      "df = pandas.read_csv('data.csv'); df"
     ],
     "language": "python",
     "metadata": {},
     "outputs": [
      {
       "html": [
        "<div style=\"max-height:1000px;max-width:1500px;overflow:auto;\">\n",
        "<table border=\"1\">\n",
        "  <thead>\n",
        "    <tr>\n",
        "      <th></th>\n",
        "      <th>Date</th>\n",
        "      <th>Open</th>\n",
        "      <th>High</th>\n",
        "      <th>Low</th>\n",
        "      <th>Close</th>\n",
        "      <th>Volume</th>\n",
        "      <th>Adj Close</th>\n",
        "    </tr>\n",
        "    </thead>\n",
        "    <tbody>\n",
        "    <tr>\n",
        "      <td><strong>0</strong></td>\n",
        "      <td> 2012-06-01</td>\n",
        "      <td> 569.16</td>\n",
        "      <td> 590.00</td>\n",
        "      <td> 548.50</td>\n",
        "      <td> 584.00</td>\n",
        "      <td> 14077000</td>\n",
        "      <td> 581.50</td>\n",
        "    </tr>\n",
        "    <tr>\n",
        "      <td><strong>1</strong></td>\n",
        "      <td> 2012-05-01</td>\n",
        "      <td> 584.90</td>\n",
        "      <td> 596.76</td>\n",
        "      <td> 522.18</td>\n",
        "      <td> 577.73</td>\n",
        "      <td> 18827900</td>\n",
        "      <td> 575.26</td>\n",
        "    </tr>\n",
        "    <tr>\n",
        "      <td><strong>2</strong></td>\n",
        "      <td> 2012-04-02</td>\n",
        "      <td> 601.83</td>\n",
        "      <td> 644.00</td>\n",
        "      <td> 555.00</td>\n",
        "      <td> 583.98</td>\n",
        "      <td> 28759100</td>\n",
        "      <td> 581.48</td>\n",
        "    </tr>\n",
        "    <tr>\n",
        "      <td><strong>3</strong></td>\n",
        "      <td> 2012-03-01</td>\n",
        "      <td> 548.17</td>\n",
        "      <td> 621.45</td>\n",
        "      <td> 516.22</td>\n",
        "      <td> 599.55</td>\n",
        "      <td> 26486000</td>\n",
        "      <td> 596.99</td>\n",
        "    </tr>\n",
        "    <tr>\n",
        "      <td><strong>4</strong></td>\n",
        "      <td> 2012-02-01</td>\n",
        "      <td> 458.41</td>\n",
        "      <td> 547.61</td>\n",
        "      <td> 453.98</td>\n",
        "      <td> 542.44</td>\n",
        "      <td> 22001000</td>\n",
        "      <td> 540.12</td>\n",
        "    </tr>\n",
        "    <tr>\n",
        "      <td><strong>5</strong></td>\n",
        "      <td> 2012-01-03</td>\n",
        "      <td> 409.40</td>\n",
        "      <td> 458.24</td>\n",
        "      <td> 409.00</td>\n",
        "      <td> 456.48</td>\n",
        "      <td> 12949100</td>\n",
        "      <td> 454.53</td>\n",
        "    </tr>\n",
        "  </tbody>\n",
        "</table>\n",
        "</div>"
       ],
       "metadata": {},
       "output_type": "pyout",
       "prompt_number": 23,
       "text": [
        "         Date    Open    High     Low   Close    Volume  Adj Close\n",
        "0  2012-06-01  569.16  590.00  548.50  584.00  14077000     581.50\n",
        "1  2012-05-01  584.90  596.76  522.18  577.73  18827900     575.26\n",
        "2  2012-04-02  601.83  644.00  555.00  583.98  28759100     581.48\n",
        "3  2012-03-01  548.17  621.45  516.22  599.55  26486000     596.99\n",
        "4  2012-02-01  458.41  547.61  453.98  542.44  22001000     540.12\n",
        "5  2012-01-03  409.40  458.24  409.00  456.48  12949100     454.53"
       ]
      }
     ],
     "prompt_number": 23
    },
    {
     "cell_type": "markdown",
     "metadata": {},
     "source": [
      "HTML is the language of the web, so you can even do things like embed YouTube videos with little effort:"
     ]
    },
    {
     "cell_type": "code",
     "collapsed": false,
     "input": [
      "from IPython.display import YouTubeVideo\n",
      "YouTubeVideo('sjfsUzECqK0')"
     ],
     "language": "python",
     "metadata": {},
     "outputs": [
      {
       "html": [
        "\n",
        "        <iframe\n",
        "            width=\"400\"\n",
        "            height=300\"\n",
        "            src=\"http://www.youtube.com/embed/sjfsUzECqK0\"\n",
        "            frameborder=\"0\"\n",
        "            allowfullscreen\n",
        "        ></iframe>\n",
        "        "
       ],
       "metadata": {},
       "output_type": "pyout",
       "prompt_number": 15,
       "text": [
        "<IPython.lib.display.YouTubeVideo at 0x10df4be10>"
       ]
      }
     ],
     "prompt_number": 15
    },
    {
     "cell_type": "heading",
     "level": 4,
     "metadata": {},
     "source": [
      "JavaScript"
     ]
    },
    {
     "cell_type": "markdown",
     "metadata": {},
     "source": [
      "The JavaScript representation allows you to build objects that have interactivity in the browser:"
     ]
    },
    {
     "cell_type": "code",
     "collapsed": false,
     "input": [
      "from IPython.display import Javascript"
     ],
     "language": "python",
     "metadata": {},
     "outputs": [],
     "prompt_number": 24
    },
    {
     "cell_type": "code",
     "collapsed": false,
     "input": [
      "js=\"\"\"\n",
      "var rme = $('<button>Reproduce Me!</button>').\n",
      "    button().click(function () {\n",
      "        alert('Reproducing research...');\n",
      "    });\n",
      "$('#maintoolbar').append(rme);\n",
      "\"\"\"\n",
      "Javascript(js)"
     ],
     "language": "python",
     "metadata": {},
     "outputs": [
      {
       "javascript": [
        "\n",
        "var rme = $('<button>Reproduce Me!</button>').\n",
        "    button().click(function () {\n",
        "        alert('Reproducing research...');\n",
        "    });\n",
        "$('#maintoolbar').append(rme);\n"
       ],
       "metadata": {},
       "output_type": "pyout",
       "prompt_number": 25,
       "text": [
        "<IPython.core.display.Javascript at 0x10f854cd0>"
       ]
      }
     ],
     "prompt_number": 25
    },
    {
     "cell_type": "heading",
     "level": 2,
     "metadata": {},
     "source": [
      "How does our tool capture these steps?"
     ]
    },
    {
     "cell_type": "markdown",
     "metadata": {},
     "source": [
      "* A user types code and text into **cells**\n",
      "* The code runs the code which produces **output** (text, images, figures, HTML, LaTeX, video) associated with the cells\n",
      "* We capture **everything** (code, text and output) in a **notebook document**\n",
      "* Notebook documents are stored as JSON files on your local file system\n",
      "* Notebook documents can be version controlled and shared\n",
      "* Best practice is to store notebook documents and data in git repos on GitHub\n",
      "* Notebooks can be viewed at http://nbviewer.ipython.org/"
     ]
    },
    {
     "cell_type": "heading",
     "level": 2,
     "metadata": {},
     "source": [
      "How are the steps represented (e.g., as a workflow)?"
     ]
    },
    {
     "cell_type": "markdown",
     "metadata": {},
     "source": [
      "* A step is represented as a notebook cell\n",
      "* Workflow = notebook = sequence of cells\n",
      "* Running the notebook cells in sequence will reproduce the entire workflow.\n",
      "* \"Run All\" = \"Reproduce Me\"!"
     ]
    },
    {
     "cell_type": "heading",
     "level": 2,
     "metadata": {},
     "source": [
      "Portability"
     ]
    },
    {
     "cell_type": "heading",
     "level": 3,
     "metadata": {},
     "source": [
      "View"
     ]
    },
    {
     "cell_type": "markdown",
     "metadata": {},
     "source": [
      "To **view** a workflow, researchers can post their notebook on GitHub (actually any public website). Then anyone else can view the notebook at:\n",
      "\n",
      "http://nbviewer.ipython.org"
     ]
    },
    {
     "cell_type": "heading",
     "level": 3,
     "metadata": {},
     "source": [
      "Run"
     ]
    },
    {
     "cell_type": "markdown",
     "metadata": {},
     "source": [
      "To **run** a workflow, users can download a notebook and all of its assets and run it on their local system."
     ]
    },
    {
     "cell_type": "heading",
     "level": 2,
     "metadata": {},
     "source": [
      "What does your tool require to be preserved between source system and target system?"
     ]
    },
    {
     "cell_type": "markdown",
     "metadata": {},
     "source": [
      "* Python\n",
      "* IPython and its dependencies (PyZMQ, tornado, jinja2, etc.)\n",
      "* The Notebook and its related assets (data, libraries)\n",
      "* Any additional dependencies the notebook has (GPUs, multicore, cluster, cloud, databases, etc.)\n",
      "\n",
      "Our tool runs on all of the major operating systems, and all recent versions of Python."
     ]
    },
    {
     "cell_type": "heading",
     "level": 3,
     "metadata": {},
     "source": [
      "How can documents link to the workflow/research?"
     ]
    },
    {
     "cell_type": "markdown",
     "metadata": {},
     "source": [
      "If researchers post their notebooks and data on GitHub, they can be linked to by their GitHub URL or on http://nbviewer.ipython.org."
     ]
    },
    {
     "cell_type": "heading",
     "level": 3,
     "metadata": {},
     "source": [
      "Does your tool provide support for a third party to repeat experiments as well as to vary experimental parameters and data"
     ]
    },
    {
     "cell_type": "markdown",
     "metadata": {},
     "source": [
      "Absolutely, downloaded notebook are live, editable, runnable code!"
     ]
    },
    {
     "cell_type": "heading",
     "level": 3,
     "metadata": {},
     "source": [
      "Does your tool provide support for archival and longevity?"
     ]
    },
    {
     "cell_type": "markdown",
     "metadata": {},
     "source": [
      "**Yes:** the notebook document is open, tested, versioned for forward compatibility\n",
      "\n",
      "**No:** researchers should be using something like GitHub to track their notebooks and other assets"
     ]
    },
    {
     "cell_type": "markdown",
     "metadata": {},
     "source": [
      "---"
     ]
    },
    {
     "cell_type": "heading",
     "level": 2,
     "metadata": {
      "slideshow": {
       "slide_type": "slide"
      }
     },
     "source": [
      "The IPython project"
     ]
    },
    {
     "cell_type": "markdown",
     "metadata": {
      "slideshow": {
       "slide_type": "-"
      }
     },
     "source": [
      "<img src=\"files/figures/logo.png\" width=400/>"
     ]
    },
    {
     "cell_type": "markdown",
     "metadata": {},
     "source": [
      "* [IPython](http://ipython.org): open source (BSD) interactive computing environment in Python\n",
      "* History:\n",
      "    - Started in 2001 by Fernando Perez (BDFL)\n",
      "    - The project now has an [extremely dedicated and talented team](https://github.com/ipython/ipython/contributors)\n",
      "* $>$ 20 person years of development, $>$ 150 contributors\n",
      "* IPython is the de facto standard environment for interactive work in Python\n",
      "* Funded by:\n",
      "    - Mostly by volunteers\n",
      "    - NASA, DOD/DRC, NIH\n",
      "    - Microsoft, Enthought\n",
      "    - Alfred P. Sloan Foundation ($1.15 million dollar grant starting in Jan. 2013)\n",
      "* Components:\n",
      "    - IPython Kernel\n",
      "        - Stateful computation engine\n",
      "        - Runs code and returns results\n",
      "        - Uses language agnostic JSON based message protocol over ZeroMQ/WebSockets\n",
      "    - Frontends:\n",
      "        - Terminal Console\n",
      "        - Qt Console\n",
      "        - Notebook\n",
      "    - Parallel computing framework"
     ]
    },
    {
     "cell_type": "heading",
     "level": 2,
     "metadata": {
      "slideshow": {
       "slide_type": "slide"
      }
     },
     "source": [
      "Live demo Notebooks"
     ]
    },
    {
     "cell_type": "markdown",
     "metadata": {},
     "source": [
      "In the live talk, I will show some live Notebook examples.\n",
      "\n",
      "If you are viewing this slide show later, here are static versions of IPython's demo notebooks:\n",
      "\n",
      "[IPython Demo Notebooks](https://github.com/ipython/ipython/tree/master/examples/notebooks#a-collection-of-notebooks-for-using-ipython-effectively)"
     ]
    },
    {
     "cell_type": "heading",
     "level": 2,
     "metadata": {
      "slideshow": {
       "slide_type": "slide"
      }
     },
     "source": [
      "What are users doing with IPython Notebooks?"
     ]
    },
    {
     "cell_type": "markdown",
     "metadata": {},
     "source": [
      "They are:\n",
      "\n",
      "* Telling data driven stories\n",
      "* Using the Notebook as their daily working environment for data science\n",
      "* Sharing their Notebooks on [GitHub](http://github.com) and http://nbviewer.ipython.org\n",
      "\n",
      "We have collected some of the highlights in our [notebook gallery](https://github.com/ipython/ipython/wiki/A-gallery-of-interesting-IPython-Notebooks)"
     ]
    },
    {
     "cell_type": "heading",
     "level": 2,
     "metadata": {
      "slideshow": {
       "slide_type": "slide"
      }
     },
     "source": [
      "An ecosystem of third party tools"
     ]
    },
    {
     "cell_type": "markdown",
     "metadata": {},
     "source": [
      "IPython provides an **open source foundation** for an ecosystem of tools and products\n",
      "\n",
      "* [Software Carpentry](http://software-carpentry.org/): helping scientist build better software using IPython Notebooks\n",
      "* Microsoft:\n",
      "    - Visual Studio Integration through [Python Tools for Visual Studio](http://pytools.codeplex.com/)\n",
      "    - Featured project on Microsoft Azure\n",
      "* Commercial Python distributions that include IPython:\n",
      "    - [Enthought Python Distribution (EPD)](http://www.enthought.com/products/epd.php)\n",
      "    - [Continuum Analytics Anaconda](https://store.continuum.io/)\n",
      "* Deploy the single user Notebook on Amazon\n",
      "    - [StarCluster](http://star.mit.edu/cluster/)\n",
      "    - [Notebook Cloud](https://notebookcloud.appspot.com/docs)\n",
      "* Cloud hosted Notebooks:\n",
      "    - [PiCloud](http://www.picloud.com/)\n",
      "    - [Wakari](http://continuum.io/wakari.html)\n",
      "* Other IPython Frontends:\n",
      "    - Vim frontend: https://github.com/ivanov/vim-ipython\n",
      "    - Emacs Notebook frontend: https://github.com/tkf/emacs-ipython-notebook\n",
      "    - vIPer: https://github.com/damianavila/vIPer"
     ]
    },
    {
     "cell_type": "heading",
     "level": 2,
     "metadata": {
      "slideshow": {
       "slide_type": "slide"
      }
     },
     "source": [
      "The future"
     ]
    },
    {
     "cell_type": "markdown",
     "metadata": {},
     "source": [
      "* Notebook conversion (2012)\n",
      "    - To and from a wide range of formats\n",
      "    - HTML, LaTeX, PDF, Markdown, reStructured Text\n",
      "* Interactive widgets (2012)\n",
      "    - The IPython kernel already knows how to send JSON representations of objects to the browser\n",
      "    - We are developing an architecture that will allow interactive JavaScript widgets and Python objects to pass JSON data back and forth.\n",
      "    - Imagine all of your d3 visualizations backed by the power of Python/NumPy/SciPy/Pandas/etc.\n",
      "    - Automatic generation of UI controls\n",
      "* Multiuser Notebook server (2013)\n",
      "    - Small to medium groups of users\n",
      "    - Trusted users - you would give these folks shell accounts\n",
      "\n",
      "See our [development roadmap](https://github.com/ipython/ipython/wiki/Roadmap:-IPython) for details"
     ]
    },
    {
     "cell_type": "heading",
     "level": 2,
     "metadata": {
      "slideshow": {
       "slide_type": "skip"
      }
     },
     "source": [
      "Formatting"
     ]
    },
    {
     "cell_type": "code",
     "collapsed": false,
     "input": [
      "from IPython.display import HTML\n",
      "HTML(\"\"\"\n",
      "<style> \n",
      "\n",
      "div.cell {\n",
      "  width: 800px;\n",
      "  margin-left: auto;\n",
      "  margin-right: auto;\n",
      "}\n",
      "\n",
      ".rendered_html {\n",
      "  font-size: 100%;\n",
      "}\n",
      "\n",
      ".rendered_html h1 {margin: 0; line-height: 1.0;}\n",
      ".rendered_html h2 {margin: 0; line-height: 1.0;}\n",
      ".rendered_html h3 {margin: 0; line-height: 1.0;}\n",
      ".rendered_html h4 {margin: 0; line-height: 1.0;}\n",
      ".rendered_html h5 {margin: 0; line-height: 1.0;}\n",
      ".rendered_html h6 {margin: 0; line-height: 1.0;}\n",
      "\n",
      ".MathJax_Display {margin-left: 2em;}\n",
      "\n",
      "</style>\"\"\")"
     ],
     "language": "python",
     "metadata": {
      "slideshow": {
       "slide_type": "skip"
      }
     },
     "outputs": [
      {
       "html": [
        "\n",
        "<style> \n",
        "\n",
        "div.cell {\n",
        "  width: 800px;\n",
        "  margin-left: auto;\n",
        "  margin-right: auto;\n",
        "}\n",
        "\n",
        ".rendered_html {\n",
        "  font-size: 100%;\n",
        "}\n",
        "\n",
        ".rendered_html h1 {margin: 0; line-height: 1.0;}\n",
        ".rendered_html h2 {margin: 0; line-height: 1.0;}\n",
        ".rendered_html h3 {margin: 0; line-height: 1.0;}\n",
        ".rendered_html h4 {margin: 0; line-height: 1.0;}\n",
        ".rendered_html h5 {margin: 0; line-height: 1.0;}\n",
        ".rendered_html h6 {margin: 0; line-height: 1.0;}\n",
        "\n",
        ".MathJax_Display {margin-left: 2em;}\n",
        "\n",
        "</style>"
       ],
       "metadata": {},
       "output_type": "pyout",
       "prompt_number": 11,
       "text": [
        "<IPython.core.display.HTML at 0x10df4bfd0>"
       ]
      }
     ],
     "prompt_number": 11
    },
    {
     "cell_type": "code",
     "collapsed": false,
     "input": [],
     "language": "python",
     "metadata": {},
     "outputs": []
    }
   ],
   "metadata": {}
  }
 ]
}