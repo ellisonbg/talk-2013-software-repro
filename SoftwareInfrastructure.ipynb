{
 "metadata": {
  "name": "SoftwareInfrastructure"
 },
 "nbformat": 3,
 "nbformat_minor": 0,
 "worksheets": [
  {
   "cells": [
    {
     "cell_type": "heading",
     "level": 1,
     "metadata": {
      "slideshow": {
       "slide_type": "slide"
      }
     },
     "source": [
      "The IPython Notebook"
     ]
    },
    {
     "cell_type": "heading",
     "level": 2,
     "metadata": {},
     "source": [
      "Software Infrastructure for Reproducibility"
     ]
    },
    {
     "cell_type": "heading",
     "level": 2,
     "metadata": {},
     "source": [
      "Brian E. Granger"
     ]
    },
    {
     "cell_type": "markdown",
     "metadata": {
      "slideshow": {
       "slide_type": "slide"
      }
     },
     "source": [
      "I **teach** Physics and do **research** with undergraduates:\n",
      "\n",
      "<img src=\"files/figures/calpoly_logo.png\" width=400/>"
     ]
    },
    {
     "cell_type": "markdown",
     "metadata": {
      "slideshow": {
       "slide_type": "-"
      }
     },
     "source": [
      "I am a **developer** of tools for scientific and technical computing:\n",
      "\n",
      "<img src=\"files/figures/logo.png\" width=400/>"
     ]
    },
    {
     "cell_type": "heading",
     "level": 2,
     "metadata": {},
     "source": [
      "Research workflows and reproducibility"
     ]
    },
    {
     "cell_type": "markdown",
     "metadata": {},
     "source": [
      "The research workflow:\n",
      "\n",
      "* Research requires a series of **tasks**\n",
      "* A sequence (actually a DAG) of tasks is a **workflow**\n",
      "* The goal of that workflow is to tell a **story**\n",
      "* Reproducibility enables other people to explore, modify and retell that story for themselves."
     ]
    },
    {
     "cell_type": "markdown",
     "metadata": {},
     "source": [
      "We go through different **phases** as we develop these workflows:\n",
      "\n",
      "* Individual exploration\n",
      "* Collaborative development\n",
      "* Production execution\n",
      "* Debugging\n",
      "* Publication\n",
      "* Presentation\n",
      "* Education\n",
      "\n",
      "We have a very broad view of the *scope* of reproducibility that includes publication, presentation and education. If you change a parameter in a calculation, which changes a figure, your presentation needs to be updated."
     ]
    },
    {
     "cell_type": "heading",
     "level": 2,
     "metadata": {},
     "source": [
      "What is our tool?"
     ]
    },
    {
     "cell_type": "markdown",
     "metadata": {},
     "source": [
      "http://ipython.org\n",
      "\n",
      "<img src=\"files/figures/logo.png\" width=400/>\n",
      "\n",
      "The IPython Notebook is a web-based **computing environment** and **open document** format for telling stories with code and data that are:\n",
      "\n",
      "* Interactive\n",
      "* Exploratory\n",
      "* Collaborative\n",
      "* Open\n",
      "* Reproducible"
     ]
    },
    {
     "cell_type": "heading",
     "level": 2,
     "metadata": {},
     "source": [
      "Reproducibility demo"
     ]
    },
    {
     "cell_type": "markdown",
     "metadata": {},
     "source": [
      "Zach Sailer is a Cal Poly senior physics major who has done his senior thesis on liquid crystals using the IPython Notebook. He has posted his data and notebooks on GitHub:\n",
      "\n",
      "https://github.com/Zsailer/calpolythesis\n",
      "\n",
      "Let's reproduce his research!"
     ]
    },
    {
     "cell_type": "code",
     "collapsed": false,
     "input": [
      "!git clone git://github.com/Zsailer/calpolythesis.git"
     ],
     "language": "python",
     "metadata": {},
     "outputs": [
      {
       "output_type": "stream",
       "stream": "stdout",
       "text": [
        "Cloning into 'calpolythesis'...\r\n"
       ]
      },
      {
       "output_type": "stream",
       "stream": "stdout",
       "text": [
        "remote: Counting objects: 195, done.\u001b[K\r\n",
        "remote: Compressing objects:   0% (1/169)   \u001b[K\r",
        "remote: Compressing objects:   1% (2/169)   \u001b[K\r",
        "remote: Compressing objects:   2% (4/169)   \u001b[K\r",
        "remote: Compressing objects:   3% (6/169)   \u001b[K\r"
       ]
      },
      {
       "output_type": "stream",
       "stream": "stdout",
       "text": [
        "remote: Compressing objects:   4% (7/169)   \u001b[K\r",
        "remote: Compressing objects:   5% (9/169)   \u001b[K\r",
        "remote: Compressing objects:   6% (11/169)   \u001b[K\r",
        "remote: Compressing objects:   7% (12/169)   \u001b[K\r",
        "remote: Compressing objects:   8% (14/169)   \u001b[K\r",
        "remote: Compressing objects:   9% (16/169)   \u001b[K\r",
        "remote: Compressing objects:  10% (17/169)   \u001b[K\r",
        "remote: Compressing objects:  11% (19/169)   \u001b[K\r",
        "remote: Compressing objects:  12% (21/169)   \u001b[K\r",
        "remote: Compressing objects:  13% (22/169)   \u001b[K\r",
        "remote: Compressing objects:  14% (24/169)   \u001b[K\r",
        "remote: Compressing objects:  15% (26/169)   \u001b[K\r",
        "remote: Compressing objects:  16% (28/169)   \u001b[K\r",
        "remote: Compressing objects:  17% (29/169)   \u001b[K\r",
        "remote: Compressing objects:  18% (31/169)   \u001b[K\r",
        "remote: Compressing objects:  19% (33/169)   \u001b[K\r",
        "remote: Compressing objects:  20% (34/169)   \u001b[K\r",
        "remote: Compressing objects:  21% (36/169)   \u001b[K\r",
        "remote: Compressing objects:  22% (38/169)   \u001b[K\r",
        "remote: Compressing objects:  23% (39/169)   \u001b[K\r"
       ]
      },
      {
       "output_type": "stream",
       "stream": "stdout",
       "text": [
        "remote: Compressing objects:  24% (41/169)   \u001b[K\r",
        "remote: Compressing objects:  25% (43/169)   \u001b[K\r",
        "remote: Compressing objects:  26% (44/169)   \u001b[K\r",
        "remote: Compressing objects:  27% (46/169)   \u001b[K\r",
        "remote: Compressing objects:  28% (48/169)   \u001b[K\r",
        "remote: Compressing objects:  29% (50/169)   \u001b[K\r",
        "remote: Compressing objects:  30% (51/169)   \u001b[K\r",
        "remote: Compressing objects:  31% (53/169)   \u001b[K\r",
        "remote: Compressing objects:  32% (55/169)   \u001b[K\r",
        "remote: Compressing objects:  33% (56/169)   \u001b[K\r",
        "remote: Compressing objects:  34% (58/169)   \u001b[K\r"
       ]
      },
      {
       "output_type": "stream",
       "stream": "stdout",
       "text": [
        "remote: Compressing objects:  35% (60/169)   \u001b[K\r"
       ]
      },
      {
       "output_type": "stream",
       "stream": "stdout",
       "text": [
        "remote: Compressing objects:  36% (61/169)   \u001b[K\r",
        "remote: Compressing objects:  37% (63/169)   \u001b[K\r"
       ]
      },
      {
       "output_type": "stream",
       "stream": "stdout",
       "text": [
        "remote: Compressing objects:  38% (65/169)   \u001b[K\r",
        "remote: Compressing objects:  39% (66/169)   \u001b[K\r",
        "remote: Compressing objects:  40% (68/169)   \u001b[K\r",
        "remote: Compressing objects:  41% (70/169)   \u001b[K\r",
        "remote: Compressing objects:  42% (71/169)   \u001b[K\r",
        "remote: Compressing objects:  43% (73/169)   \u001b[K\r",
        "remote: Compressing objects:  44% (75/169)   \u001b[K\r",
        "remote: Compressing objects:  45% (77/169)   \u001b[K\r",
        "remote: Compressing objects:  46% (78/169)   \u001b[K\r",
        "remote: Compressing objects:  47% (80/169)   \u001b[K\r",
        "remote: Compressing objects:  48% (82/169)   \u001b[K\r",
        "remote: Compressing objects:  49% (83/169)   \u001b[K\r",
        "remote: Compressing objects:  50% (85/169)   \u001b[K\r",
        "remote: Compressing objects:  51% (87/169)   \u001b[K\r",
        "remote: Compressing objects:  52% (88/169)   \u001b[K\r",
        "remote: Compressing objects:  53% (90/169)   \u001b[K\r",
        "remote: Compressing objects:  54% (92/169)   \u001b[K\r",
        "remote: Compressing objects:  55% (93/169)   \u001b[K\r",
        "remote: Compressing objects:  56% (95/169)   \u001b[K\r",
        "remote: Compressing objects:  57% (97/169)   \u001b[K\r",
        "remote: Compressing objects:  58% (99/169)   \u001b[K\r",
        "remote: Compressing objects:  59% (100/169)   \u001b[K\r",
        "remote: Compressing objects:  60% (102/169)   \u001b[K\r",
        "remote: Compressing objects:  61% (104/169)   \u001b[K\r",
        "remote: Compressing objects:  62% (105/169)   \u001b[K\r",
        "remote: Compressing objects:  63% (107/169)   \u001b[K\r",
        "remote: Compressing objects:  64% (109/169)   \u001b[K\r",
        "remote: Compressing objects:  65% (110/169)   \u001b[K\r",
        "remote: Compressing objects:  66% (112/169)   \u001b[K\r",
        "remote: Compressing objects:  67% (114/169)   \u001b[K\r",
        "remote: Compressing objects:  68% (115/169)   \u001b[K\r",
        "remote: Compressing objects:  69% (117/169)   \u001b[K\r",
        "remote: Compressing objects:  70% (119/169)   \u001b[K\r",
        "remote: Compressing objects:  71% (120/169)   \u001b[K\r",
        "remote: Compressing objects:  72% (122/169)   \u001b[K\r",
        "remote: Compressing objects:  73% (124/169)   \u001b[K\r",
        "remote: Compressing objects:  74% (126/169)   \u001b[K\r",
        "remote: Compressing objects:  75% (127/169)   \u001b[K\r",
        "remote: Compressing objects:  76% (129/169)   \u001b[K\r",
        "remote: Compressing objects:  77% (131/169)   \u001b[K\r",
        "remote: Compressing objects:  78% (132/169)   \u001b[K\r",
        "remote: Compre"
       ]
      },
      {
       "output_type": "stream",
       "stream": "stdout",
       "text": [
        "ssing objects:  79% (134/169)   \u001b[K\r",
        "remote: Compressing objects:  80% (136/169)   \u001b[K\r",
        "remote: Compressing objects:  81% (137/169)   \u001b[K\r",
        "remote: Compressing objects:  82% (139/169)   \u001b[K\r",
        "remote: Compressing objects:  83% (141/169)   \u001b[K\r",
        "remote: Compressing objects:  84% (142/169)   \u001b[K\r",
        "remote: Compressing objects:  85% (144/169)   \u001b[K\r",
        "remote: Compressing objects:  86% (146/169)   \u001b[K\r",
        "remote: Compressing objects:  87% (148/169)   \u001b[K\r",
        "remote: Compressing objects:  88% (149/169)   \u001b[K\r",
        "remote: Compressing objects:  89% (151/169)   \u001b[K\r",
        "remote: Compressing objects:  90% (153/169)   \u001b[K\r",
        "remote: Compressing objects:  91% (154/169)   \u001b[K\r",
        "remote: Compressing objects:  92% (156/169)   \u001b[K\r",
        "remote: Compressing objects:  93% (158/169)   \u001b[K\r",
        "remote: Compressing objects:  94% (159/169)   \u001b[K\r",
        "remote: Compressing objects:  95% (161/169)   \u001b[K\r",
        "remote: Compressing objects:  96% (163/169)   \u001b[K\r",
        "remote: Compressing objects:  97% (164/169)   \u001b[K\r",
        "remote: Compressing objects:  98% (166/169)   \u001b[K\r",
        "remote: Compressing objects:  99% (168/169)   \u001b[K\r",
        "remote: Compressing objects: 100% (169/169)   \u001b[K\r",
        "remote: Compressing objects: 100% (169/169), done.\u001b[K\r\n"
       ]
      },
      {
       "output_type": "stream",
       "stream": "stdout",
       "text": [
        "Receiving objects:   0% (1/195)   \r",
        "Receiving objects:   1% (2/195)   \r",
        "Receiving objects:   2% (4/195)   \r",
        "Receiving objects:   3% (6/195)   \r",
        "Receiving objects:   4% (8/195)   \r",
        "Receiving objects:   5% (10/195)   \r",
        "Receiving objects:   6% (12/195)   \r",
        "Receiving objects:   7% (14/195)   \r",
        "Receiving objects:   8% (16/195)   \r",
        "Receiving objects:   9% (18/195)   \r",
        "Receiving objects:  10% (20/195)   \r",
        "Receiving objects:  11% (22/195)   \r"
       ]
      },
      {
       "output_type": "stream",
       "stream": "stdout",
       "text": [
        "Receiving objects:  12% (24/195)   \r",
        "Receiving objects:  13% (26/195)   \r",
        "Receiving objects:  14% (28/195), 388.00 KiB | 757 KiB/s   \r"
       ]
      },
      {
       "output_type": "stream",
       "stream": "stdout",
       "text": [
        "Receiving objects:  15% (30/195), 388.00 KiB | 757 KiB/s   \r",
        "Receiving objects:  16% (32/195), 388.00 KiB | 757 KiB/s   \r"
       ]
      },
      {
       "output_type": "stream",
       "stream": "stdout",
       "text": [
        "Receiving objects:  17% (34/195), 388.00 KiB | 757 KiB/s   \r",
        "Receiving objects:  18% (36/195), 388.00 KiB | 757 KiB/s   \r",
        "Receiving objects:  19% (38/195), 388.00 KiB | 757 KiB/s   \r"
       ]
      },
      {
       "output_type": "stream",
       "stream": "stdout",
       "text": [
        "Receiving objects:  20% (39/195), 388.00 KiB | 757 KiB/s   \r"
       ]
      },
      {
       "output_type": "stream",
       "stream": "stdout",
       "text": [
        "Receiving objects:  21% (41/195), 388.00 KiB | 757 KiB/s   \r",
        "Receiving objects:  22% (43/195), 388.00 KiB | 757 KiB/s   \r",
        "Receiving objects:  23% (45/195), 388.00 KiB | 757 KiB/s   \r"
       ]
      },
      {
       "output_type": "stream",
       "stream": "stdout",
       "text": [
        "Receiving objects:  24% (47/195), 388.00 KiB | 757 KiB/s   \r",
        "Receiving objects:  25% (49/195), 388.00 KiB | 757 KiB/s   \r"
       ]
      },
      {
       "output_type": "stream",
       "stream": "stdout",
       "text": [
        "Receiving objects:  26% (51/195), 388.00 KiB | 757 KiB/s   \r",
        "Receiving objects:  27% (53/195), 388.00 KiB | 757 KiB/s   \r"
       ]
      },
      {
       "output_type": "stream",
       "stream": "stdout",
       "text": [
        "Receiving objects:  28% (55/195), 388.00 KiB | 757 KiB/s   \r",
        "Receiving objects:  29% (57/195), 388.00 KiB | 757 KiB/s   \r",
        "Receiving objects:  30% (59/195), 388.00 KiB | 757 KiB/s   \r"
       ]
      },
      {
       "output_type": "stream",
       "stream": "stdout",
       "text": [
        "Receiving objects:  31% (61/195), 388.00 KiB | 757 KiB/s   \r",
        "Receiving objects:  32% (63/195), 388.00 KiB | 757 KiB/s   \r",
        "Receiving objects:  33% (65/195), 388.00 KiB | 757 KiB/s   \r",
        "Receiving objects:  34% (67/195), 388.00 KiB | 757 KiB/s   \r"
       ]
      },
      {
       "output_type": "stream",
       "stream": "stdout",
       "text": [
        "Receiving objects:  35% (69/195), 388.00 KiB | 757 KiB/s   \r",
        "Receiving objects:  35% (69/195), 1.21 MiB | 1.20 MiB/s   \r",
        "Receiving objects:  36% (71/195), 1.21 MiB | 1.20 MiB/s   \r"
       ]
      },
      {
       "output_type": "stream",
       "stream": "stdout",
       "text": [
        "Receiving objects:  37% (73/195), 1.21 MiB | 1.20 MiB/s   \r",
        "Receiving objects:  38% (75/195), 1.21 MiB | 1.20 MiB/s   \r",
        "Receiving objects:  39% (77/195), 1.21 MiB | 1.20 MiB/s   \r",
        "Receiving objects:  40% (78/195), 1.21 MiB | 1.20 MiB/s   \r"
       ]
      },
      {
       "output_type": "stream",
       "stream": "stdout",
       "text": [
        "Receiving objects:  41% (80/195), 1.21 MiB | 1.20 MiB/s   \r",
        "Receiving objects:  42% (82/195), 1.21 MiB | 1.20 MiB/s   \r"
       ]
      },
      {
       "output_type": "stream",
       "stream": "stdout",
       "text": [
        "Receiving objects:  43% (84/195), 1.21 MiB | 1.20 MiB/s   \r"
       ]
      },
      {
       "output_type": "stream",
       "stream": "stdout",
       "text": [
        "Receiving objects:  44% (86/195), 1.21 MiB | 1.20 MiB/s   \r",
        "Receiving objects:  45% (88/195), 1.21 MiB | 1.20 MiB/s   \r",
        "Receiving objects:  46% (90/195), 1.21 MiB | 1.20 MiB/s   \r",
        "Receiving objects:  47% (92/195), 1.21 MiB | 1.20 MiB/s   \r"
       ]
      },
      {
       "output_type": "stream",
       "stream": "stdout",
       "text": [
        "Receiving objects:  48% (94/195), 1.21 MiB | 1.20 MiB/s   \r"
       ]
      },
      {
       "output_type": "stream",
       "stream": "stdout",
       "text": [
        "Receiving objects:  49% (96/195), 1.21 MiB | 1.20 MiB/s   \r",
        "Receiving objects:  50% (98/195), 1.21 MiB | 1.20 MiB/s   \r",
        "Receiving objects:  51% (100/195), 1.21 MiB | 1.20 MiB/s   \r"
       ]
      },
      {
       "output_type": "stream",
       "stream": "stdout",
       "text": [
        "Receiving objects:  52% (102/195), 1.21 MiB | 1.20 MiB/s   \r"
       ]
      },
      {
       "output_type": "stream",
       "stream": "stdout",
       "text": [
        "Receiving objects:  53% (104/195), 2.55 MiB | 1.67 MiB/s   \r"
       ]
      },
      {
       "output_type": "stream",
       "stream": "stdout",
       "text": [
        "Receiving objects:  54% (106/195), 2.55 MiB | 1.67 MiB/s   \r"
       ]
      },
      {
       "output_type": "stream",
       "stream": "stdout",
       "text": [
        "Receiving objects:  55% (108/195), 2.55 MiB | 1.67 MiB/s   \r",
        "Receiving objects:  56% (110/195), 2.55 MiB | 1.67 MiB/s   \r",
        "Receiving objects:  57% (112/195), 2.55 MiB | 1.67 MiB/s   \r",
        "Receiving objects:  58% (114/195), 2.55 MiB | 1.67 MiB/s   \r",
        "Receiving objects:  59% (116/195), 2.55 MiB | 1.67 MiB/s   \r",
        "Receiving objects:  60% (117/195), 2.55 MiB | 1.67 MiB/s   \r",
        "Receiving objects:  61% (119/195), 2.55 MiB | 1.67 MiB/s   \r",
        "Receiving objects:  62% (121/195), 2.55 MiB | 1.67 MiB/s   \r",
        "Receiving objects:  63% (123/195), 2.55 MiB | 1.67 MiB/s   \r",
        "Receiving objects:  64% (125/195), 2.55 MiB | 1.67 MiB/s   \r",
        "Receiving objects:  65% (127/195), 2.55 MiB | 1.67 MiB/s   \r",
        "Receiving objects:  66% (129/195), 2.55 MiB | 1.67 MiB/s   \r",
        "Receiving objects:  67% (131/195), 2.55 MiB | 1.67 MiB/s   \r"
       ]
      },
      {
       "output_type": "stream",
       "stream": "stdout",
       "text": [
        "Receiving objects:  68% (133/195), 2.55 MiB | 1.67 MiB/s   \r",
        "Receiving objects:  69% (135/195), 2.55 MiB | 1.67 MiB/s   \r",
        "Receiving objects:  70% (137/195), 2.55 MiB | 1.67 MiB/s   \r",
        "Receiving objects:  71% (139/195), 2.55 MiB | 1.67 MiB/s   \r",
        "Receiving objects:  72% (141/195), 2.55 MiB | 1.67 MiB/s   \r",
        "Receiving objects:  73% (143/195), 2.55 MiB | 1.67 MiB/s   \r",
        "Receiving objects:  74% (145/195), 2.55 MiB | 1.67 MiB/s   \r",
        "Receiving objects:  75% (147/195), 2.55 MiB | 1.67 MiB/s   \r",
        "Receiving objects:  76% (149/195), 2.55 MiB | 1.67 MiB/s   \r",
        "Receiving objects:  77% (151/195), 2.55 MiB | 1.67 MiB/s   \r",
        "Receiving objects:  78% (153/195), 2.55 MiB | 1.67 MiB/s   \r",
        "Receiving objects:  79% (155/195), 2.55 MiB | 1.67 MiB/s   \r",
        "Receiving objects:  80% (156/195), 2.55 MiB | 1.67 MiB/s   \r",
        "Receiving objects:  81% (158/195), 2.55 MiB | 1.67 MiB/s   \r",
        "Receiving objects:  82% (160/195), 2.55 MiB | 1.67 MiB/s   \r",
        "Receiving objects:  83% (162/195), 2.55 MiB | 1.67 MiB/s   \r",
        "Receiving objects:  84% (164/195), 2.55 MiB | 1.67 MiB/s   \r"
       ]
      },
      {
       "output_type": "stream",
       "stream": "stdout",
       "text": [
        "Receiving objects:  84% (165/195), 4.21 MiB | 2.08 MiB/s   \r"
       ]
      },
      {
       "output_type": "stream",
       "stream": "stdout",
       "text": [
        "Receiving objects:  85% (166/195), 4.21 MiB | 2.08 MiB/s   \r",
        "Receiving objects:  86% (168/195), 4.21 MiB | 2.08 MiB/s   \r"
       ]
      },
      {
       "output_type": "stream",
       "stream": "stdout",
       "text": [
        "Receiving objects:  87% (170/195), 4.21 MiB | 2.08 MiB/s   \r",
        "Receiving objects:  88% (172/195), 4.21 MiB | 2.08 MiB/s   \r"
       ]
      },
      {
       "output_type": "stream",
       "stream": "stdout",
       "text": [
        "Receiving objects:  89% (174/195), 6.25 MiB | 2.47 MiB/s   \r",
        "Receiving objects:  90% (176/195), 6.25 MiB | 2.47 MiB/s   \r",
        "Receiving objects:  91% (178/195), 6.25 MiB | 2.47 MiB/s   \r",
        "Receiving objects:  92% (180/195), 6.25 MiB | 2.47 MiB/s   \r",
        "Receiving objects:  93% (182/195), 6.25 MiB | 2.47 MiB/s   \r",
        "Receiving objects:  94% (184/195), 6.25 MiB | 2.47 MiB/s   \r"
       ]
      },
      {
       "output_type": "stream",
       "stream": "stdout",
       "text": [
        "Receiving objects:  95% (186/195), 6.25 MiB | 2.47 MiB/s   \r"
       ]
      },
      {
       "output_type": "stream",
       "stream": "stdout",
       "text": [
        "Receiving objects:  96% (188/195), 6.25 MiB | 2.47 MiB/s   \r",
        "remote: Total 195 (delta 37), reused 184 (delta 26)\u001b[K\r\n",
        "Receiving objects:  97% (190/195), 6.25 MiB | 2.47 MiB/s   \r",
        "Receiving objects:  98% (192/195), 6.25 MiB | 2.47 MiB/s   \r",
        "Receiving objects:  99% (194/195), 6.25 MiB | 2.47 MiB/s   \r",
        "Receiving objects: 100% (195/195), 6.25 MiB | 2.47 MiB/s   \r",
        "Receiving objects: 100% (195/195), 7.41 MiB | 2.47 MiB/s, done.\r\n",
        "Resolving deltas:   0% (0/37)   \r",
        "Resolving deltas:  18% (7/37)   \r",
        "Resolving deltas:  29% (11/37)   \r",
        "Resolving deltas:  40% (15/37)   \r",
        "Resolving deltas:  43% (16/37)   \r"
       ]
      },
      {
       "output_type": "stream",
       "stream": "stdout",
       "text": [
        "Resolving deltas:  45% (17/37)   \r",
        "Resolving deltas:  48% (18/37)   \r",
        "Resolving deltas:  51% (19/37)   \r",
        "Resolving deltas:  54% (20/37)   \r",
        "Resolving deltas:  56% (21/37)   \r",
        "Resolving deltas:  62% (23/37)   \r",
        "Resolving deltas:  64% (24/37)   \r",
        "Resolving deltas:  70% (26/37)   \r",
        "Resolving deltas:  75% (28/37)   \r",
        "Resolving deltas:  78% (29/37)   \r",
        "Resolving deltas:  81% (30/37)   \r",
        "Resolving deltas:  97% (36/37)   \r",
        "Resolving deltas: 100% (37/37)   \r",
        "Resolving deltas: 100% (37/37), done.\r\n"
       ]
      }
     ],
     "prompt_number": 9
    },
    {
     "cell_type": "code",
     "collapsed": false,
     "input": [
      "!cd calpolythesis/notebooks && open ."
     ],
     "language": "python",
     "metadata": {},
     "outputs": [],
     "prompt_number": 13
    },
    {
     "cell_type": "heading",
     "level": 2,
     "metadata": {},
     "source": [
      "How does a user install our tool?"
     ]
    },
    {
     "cell_type": "markdown",
     "metadata": {},
     "source": [
      "It is open source (BSD) and there are many options:\n",
      "\n",
      "* The don't install it, they run it in the cloud\n",
      "\t- [PiCloud](http://www.picloud.com/platform/notebook/)\n",
      "\t- [Wakari](https://www.wakari.io/)\n",
      "\t- [StarCluster](http://star.mit.edu/cluster/)\n",
      "* Double clickable installers\n",
      "\t- Continuum's [Anaconda](https://store.continuum.io/cshop/anaconda/)\n",
      "\t- [Enthought Python Distribution (EPD)](https://enthought.com/products/epd/)\n",
      "\t- Enthought's [Canopy](https://enthought.com/products/canopy/)\n",
      "* Python packaging managers\n",
      "\t- pip\n",
      "\t- easy_install\n",
      "* Linux package managers\n",
      "\t- apt\n",
      "\t- yum\n",
      "* From source (https://github.com/ipython/ipython)"
     ]
    },
    {
     "cell_type": "heading",
     "level": 2,
     "metadata": {},
     "source": [
      "What types of research steps can our tool capture?"
     ]
    },
    {
     "cell_type": "markdown",
     "metadata": {},
     "source": [
      "* Code\n",
      "\t- Python\n",
      "\t- R\n",
      "\t- Ruby\n",
      "\t- Perl\n",
      "\t- Cython\n",
      "\t- Octave\n",
      "\t- Bash\n",
      "\t- MATLAB\n",
      "* Descriptive text = Markdown+HTML\n",
      "* Equations = LaTeX\n",
      "* Output\n",
      "- Text\n",
      "- Equations\n",
      "- Images\n",
      "- Figures\n",
      "- JavaScript widgets\n",
      "- HTML\n"
     ]
    },
    {
     "cell_type": "heading",
     "level": 2,
     "metadata": {},
     "source": [
      "How does my tool capture these steps?"
     ]
    },
    {
     "cell_type": "markdown",
     "metadata": {},
     "source": [
      "* A user types code and text into **cells**\n",
      "* The code runs the code which produces **output** (text, images, figures, HTML, LaTeX, video) associated with the cells\n",
      "* We capture **everything** (code, text and output) in a **notebook document**\n",
      "* Notebook documents are stored as JSON files on your local file system\n",
      "* Notebook documents can be version controlled\n",
      "* Best practice is to store notebook documents and data in git repos on GitHub."
     ]
    },
    {
     "cell_type": "heading",
     "level": 2,
     "metadata": {},
     "source": [
      "How are the steps represented (e.g., as a workflow)?"
     ]
    },
    {
     "cell_type": "markdown",
     "metadata": {},
     "source": [
      "* A step is represented as a notebook cell\n",
      "* Workflow = notebook = sequence of cells\n",
      "* Running the notebook cells in sequence will reproduce the entire workflow.\n",
      "* \"Run All\" = \"Reproduce Me\"!"
     ]
    },
    {
     "cell_type": "heading",
     "level": 2,
     "metadata": {},
     "source": [
      "How portable are the workflows?"
     ]
    },
    {
     "cell_type": "markdown",
     "metadata": {},
     "source": [
      "To **view** a workflow, researchers can post their notebook on GitHub (actually any public website). Then anyone else can view the notebook at:\n",
      "\n",
      "http://nbviewer.ipython.org"
     ]
    },
    {
     "cell_type": "markdown",
     "metadata": {},
     "source": [
      "To **run** a workflow, users can download a notebook and all of its assets and run it on their local system."
     ]
    },
    {
     "cell_type": "heading",
     "level": 2,
     "metadata": {},
     "source": [
      "What does your tool require to be preserved between source system and target system?"
     ]
    },
    {
     "cell_type": "markdown",
     "metadata": {},
     "source": [
      "* Python\n",
      "* IPython and its dependencies (PyZMQ, tornado, jinja2, etc.)\n",
      "* The Notebook and its related assets (data, libraries)\n",
      "* Any additional dependencies the notebook has (GPUs, multicore, cluster, cloud, databases, etc.)\n",
      "\n",
      "Our tool runs on all of the major operating systems, and all recent versions of Python."
     ]
    },
    {
     "cell_type": "heading",
     "level": 3,
     "metadata": {},
     "source": [
      "How can documents link to the workflow/research?"
     ]
    },
    {
     "cell_type": "markdown",
     "metadata": {},
     "source": [
      "If researchers post their notebooks and data on GitHub, they can be linked to by their GitHub URL or on http://nbviewer.ipython.org."
     ]
    },
    {
     "cell_type": "heading",
     "level": 3,
     "metadata": {},
     "source": [
      "Does your tool provide support for a third party to repeat experiments as well as to vary experimental parameters and data"
     ]
    },
    {
     "cell_type": "markdown",
     "metadata": {},
     "source": [
      "Absolutely, downloaded notebook are live, editable, runnable code!"
     ]
    },
    {
     "cell_type": "heading",
     "level": 3,
     "metadata": {},
     "source": [
      "Does your tool provide support for archival and longevity?"
     ]
    },
    {
     "cell_type": "markdown",
     "metadata": {},
     "source": [
      "**Yes:** the notebook document is open, tested, versioned for forward compatibility\n",
      "\n",
      "**No:** researchers should be using something like GitHub to track their notebooks and other assets"
     ]
    },
    {
     "cell_type": "markdown",
     "metadata": {},
     "source": [
      "---"
     ]
    },
    {
     "cell_type": "heading",
     "level": 2,
     "metadata": {
      "slideshow": {
       "slide_type": "slide"
      }
     },
     "source": [
      "The IPython project"
     ]
    },
    {
     "cell_type": "markdown",
     "metadata": {
      "slideshow": {
       "slide_type": "-"
      }
     },
     "source": [
      "<img src=\"files/figures/logo.png\" width=400/>"
     ]
    },
    {
     "cell_type": "markdown",
     "metadata": {},
     "source": [
      "* [IPython](http://ipython.org): open source (BSD) interactive computing environment in Python\n",
      "* History:\n",
      "    - Started in 2001 by Fernando Perez (BDFL)\n",
      "    - The project now has an [extremely dedicated and talented team](https://github.com/ipython/ipython/contributors)\n",
      "* $>$ 20 person years of development, $>$ 150 contributors\n",
      "* IPython is the de facto standard environment for interactive work in Python\n",
      "* Funded by:\n",
      "    - Mostly by volunteers\n",
      "    - NASA, DOD/DRC, NIH\n",
      "    - Microsoft, Enthought\n",
      "    - Alfred P. Sloan Foundation ($1.15 million dollar grant starting in Jan. 2013)\n",
      "* Components:\n",
      "    - IPython Kernel\n",
      "        - Stateful computation engine\n",
      "        - Runs code and returns results\n",
      "        - Uses language agnostic JSON based message protocol over ZeroMQ/WebSockets\n",
      "    - Frontends:\n",
      "        - Terminal Console\n",
      "        - Qt Console\n",
      "        - Notebook\n",
      "    - Parallel computing framework"
     ]
    },
    {
     "cell_type": "heading",
     "level": 2,
     "metadata": {
      "slideshow": {
       "slide_type": "slide"
      }
     },
     "source": [
      "Live demo Notebooks"
     ]
    },
    {
     "cell_type": "markdown",
     "metadata": {},
     "source": [
      "In the live talk, I will show some live Notebook examples.\n",
      "\n",
      "If you are viewing this slide show later, here are static versions of IPython's demo notebooks:\n",
      "\n",
      "[IPython Demo Notebooks](https://github.com/ipython/ipython/tree/master/examples/notebooks#a-collection-of-notebooks-for-using-ipython-effectively)"
     ]
    },
    {
     "cell_type": "heading",
     "level": 2,
     "metadata": {
      "slideshow": {
       "slide_type": "slide"
      }
     },
     "source": [
      "What are users doing with IPython Notebooks?"
     ]
    },
    {
     "cell_type": "markdown",
     "metadata": {},
     "source": [
      "They are:\n",
      "\n",
      "* Telling data driven stories\n",
      "* Using the Notebook as their daily working environment for data science\n",
      "* Sharing their Notebooks on [GitHub](http://github.com) and http://nbviewer.ipython.org\n",
      "\n",
      "We have collected some of the highlights in our [notebook gallery](https://github.com/ipython/ipython/wiki/A-gallery-of-interesting-IPython-Notebooks)"
     ]
    },
    {
     "cell_type": "heading",
     "level": 2,
     "metadata": {
      "slideshow": {
       "slide_type": "slide"
      }
     },
     "source": [
      "An ecosystem of third party tools"
     ]
    },
    {
     "cell_type": "markdown",
     "metadata": {},
     "source": [
      "IPython provides an **open source foundation** for an ecosystem of tools and products\n",
      "\n",
      "* [Software Carpentry](http://software-carpentry.org/): helping scientist build better software using IPython Notebooks\n",
      "* Microsoft:\n",
      "    - Visual Studio Integration through [Python Tools for Visual Studio](http://pytools.codeplex.com/)\n",
      "    - Featured project on Microsoft Azure\n",
      "* Commercial Python distributions that include IPython:\n",
      "    - [Enthought Python Distribution (EPD)](http://www.enthought.com/products/epd.php)\n",
      "    - [Continuum Analytics Anaconda](https://store.continuum.io/)\n",
      "* Deploy the single user Notebook on Amazon\n",
      "    - [StarCluster](http://star.mit.edu/cluster/)\n",
      "    - [Notebook Cloud](https://notebookcloud.appspot.com/docs)\n",
      "* Cloud hosted Notebooks:\n",
      "    - [PiCloud](http://www.picloud.com/)\n",
      "    - [Wakari](http://continuum.io/wakari.html)\n",
      "* Other IPython Frontends:\n",
      "    - Vim frontend: https://github.com/ivanov/vim-ipython\n",
      "    - Emacs Notebook frontend: https://github.com/tkf/emacs-ipython-notebook\n",
      "    - vIPer: https://github.com/damianavila/vIPer"
     ]
    },
    {
     "cell_type": "heading",
     "level": 2,
     "metadata": {
      "slideshow": {
       "slide_type": "slide"
      }
     },
     "source": [
      "The future"
     ]
    },
    {
     "cell_type": "markdown",
     "metadata": {},
     "source": [
      "* Notebook conversion (2012)\n",
      "    - To and from a wide range of formats\n",
      "    - HTML, LaTeX, PDF, Markdown, reStructured Text\n",
      "* Interactive widgets (2012)\n",
      "    - The IPython kernel already knows how to send JSON representations of objects to the browser\n",
      "    - We are developing an architecture that will allow interactive JavaScript widgets and Python objects to pass JSON data back and forth.\n",
      "    - Imagine all of your d3 visualizations backed by the power of Python/NumPy/SciPy/Pandas/etc.\n",
      "    - Automatic generation of UI controls\n",
      "* Multiuser Notebook server (2013)\n",
      "    - Small to medium groups of users\n",
      "    - Trusted users - you would give these folks shell accounts\n",
      "\n",
      "See our [development roadmap](https://github.com/ipython/ipython/wiki/Roadmap:-IPython) for details"
     ]
    },
    {
     "cell_type": "heading",
     "level": 2,
     "metadata": {
      "slideshow": {
       "slide_type": "skip"
      }
     },
     "source": [
      "Formatting"
     ]
    },
    {
     "cell_type": "code",
     "collapsed": false,
     "input": [
      "from IPython.display import HTML\n",
      "HTML(\"\"\"\n",
      "<style> \n",
      "\n",
      "div.cell {\n",
      "  width: 800px;\n",
      "  margin-left: auto;\n",
      "  margin-right: auto;\n",
      "}\n",
      "\n",
      ".rendered_html {\n",
      "  font-size: 100%;\n",
      "}\n",
      "\n",
      ".rendered_html h1 {margin: 0; line-height: 1.0;}\n",
      ".rendered_html h2 {margin: 0; line-height: 1.0;}\n",
      ".rendered_html h3 {margin: 0; line-height: 1.0;}\n",
      ".rendered_html h4 {margin: 0; line-height: 1.0;}\n",
      ".rendered_html h5 {margin: 0; line-height: 1.0;}\n",
      ".rendered_html h6 {margin: 0; line-height: 1.0;}\n",
      "\n",
      "</style>\"\"\")"
     ],
     "language": "python",
     "metadata": {
      "slideshow": {
       "slide_type": "skip"
      }
     },
     "outputs": [
      {
       "html": [
        "\n",
        "<style> \n",
        "\n",
        "div.cell {\n",
        "  width: 800px;\n",
        "  margin-left: auto;\n",
        "  margin-right: auto;\n",
        "}\n",
        "\n",
        ".rendered_html {\n",
        "  font-size: 100%;\n",
        "}\n",
        "\n",
        ".rendered_html h1 {margin: 0; line-height: 1.0;}\n",
        ".rendered_html h2 {margin: 0; line-height: 1.0;}\n",
        ".rendered_html h3 {margin: 0; line-height: 1.0;}\n",
        ".rendered_html h4 {margin: 0; line-height: 1.0;}\n",
        ".rendered_html h5 {margin: 0; line-height: 1.0;}\n",
        ".rendered_html h6 {margin: 0; line-height: 1.0;}\n",
        "\n",
        "</style>"
       ],
       "metadata": {},
       "output_type": "pyout",
       "prompt_number": 8,
       "text": [
        "<IPython.core.display.HTML at 0x10811d610>"
       ]
      }
     ],
     "prompt_number": 8
    }
   ],
   "metadata": {}
  }
 ]
}