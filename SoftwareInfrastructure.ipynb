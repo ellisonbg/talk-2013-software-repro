{
 "metadata": {
  "name": "SoftwareInfrastructure"
 },
 "nbformat": 3,
 "nbformat_minor": 0,
 "worksheets": [
  {
   "cells": [
    {
     "cell_type": "heading",
     "level": 1,
     "metadata": {
      "slideshow": {
       "slide_type": "slide"
      }
     },
     "source": [
      "The IPython Notebook"
     ]
    },
    {
     "cell_type": "heading",
     "level": 2,
     "metadata": {},
     "source": [
      "Software Infrastructure for Reproducibility"
     ]
    },
    {
     "cell_type": "heading",
     "level": 2,
     "metadata": {},
     "source": [
      "Brian E. Granger"
     ]
    },
    {
     "cell_type": "markdown",
     "metadata": {
      "slideshow": {
       "slide_type": "slide"
      }
     },
     "source": [
      "I **teach** Physics and do **research** with undergraduates:\n",
      "\n",
      "<img src=\"files/figures/calpoly_logo.png\" width=400/>"
     ]
    },
    {
     "cell_type": "markdown",
     "metadata": {
      "slideshow": {
       "slide_type": "-"
      }
     },
     "source": [
      "I am a **developer** of tools for scientific and technical computing:\n",
      "\n",
      "<img src=\"files/figures/logo.png\" width=400/>"
     ]
    },
    {
     "cell_type": "heading",
     "level": 2,
     "metadata": {},
     "source": [
      "Research workflows and reproducibility"
     ]
    },
    {
     "cell_type": "markdown",
     "metadata": {},
     "source": [
      "The research workflow:\n",
      "\n",
      "* Research requires a series of **tasks**\n",
      "* A sequence of tasks is a **workflow**\n",
      "* The goal of that workflow is to tell a **story**\n",
      "* The exploratory nature of research means that the steps and workflow are ever changing\n",
      "* Reproducibility enables other people to explore, verify, modify and retell that story for themselves."
     ]
    },
    {
     "cell_type": "markdown",
     "metadata": {},
     "source": [
      "These workflows span the entire **lifecycle** of research:\n",
      "\n",
      "* Individual exploration\n",
      "* Collaborative development\n",
      "* Production execution\n",
      "* Debugging\n",
      "* Publication\n",
      "* Presentation\n",
      "* Education\n",
      "\n",
      "This lifecycle, and thus reproducibility, includes publication, presentation and education. If you change a parameter in a calculation, which changes a figure, your conference talk and class lecture notes need to be updated."
     ]
    },
    {
     "cell_type": "heading",
     "level": 2,
     "metadata": {},
     "source": [
      "What is our tool?"
     ]
    },
    {
     "cell_type": "markdown",
     "metadata": {},
     "source": [
      "http://ipython.org\n",
      "\n",
      "<img src=\"files/figures/logo.png\" width=400/>\n",
      "\n",
      "The IPython Notebook is a web-based **computing environment** and **open document format** for telling stories with code and data that are:\n",
      "\n",
      "* Interactive\n",
      "* Exploratory\n",
      "* Collaborative\n",
      "* Open\n",
      "* Reproducible\n",
      "* Productive\n",
      "* Fun"
     ]
    },
    {
     "cell_type": "heading",
     "level": 2,
     "metadata": {},
     "source": [
      "Reproducibility demo"
     ]
    },
    {
     "cell_type": "markdown",
     "metadata": {},
     "source": [
      "Zach Sailer is a Cal Poly senior physics major who has done his senior thesis on liquid crystals using the IPython Notebook. He has posted his data and notebooks on GitHub:\n",
      "\n",
      "https://github.com/Zsailer/calpolythesis\n",
      "\n",
      "Let's reproduce his research! Run the following at the command line:\n",
      "\n",
      "```\n",
      "git clone git://github.com/Zsailer/calpolythesis.git\n",
      "cd calpolythesis/notebooks\n",
      "ipython notebook\n",
      "```\n",
      "\n",
      "This will open the Notebook server and will enable you to open and run his Notebooks."
     ]
    },
    {
     "cell_type": "markdown",
     "metadata": {},
     "source": [
      "Important points:\n",
      "\n",
      "* You can tweet about it - only a single click in a browser to view it on http://nbviewer.ipython.org\n",
      "* You can run it yourself in a short amount of time - download and \"Run All\"\n",
      "* You can hack on it and explore it yourself\n",
      "* It is version controlled on a public GitHub repo - completely transparent\n",
      "* Most of the reproducibility is a side effect of the tools being used"
     ]
    },
    {
     "cell_type": "heading",
     "level": 2,
     "metadata": {},
     "source": [
      "How does a user install our tool?"
     ]
    },
    {
     "cell_type": "markdown",
     "metadata": {},
     "source": [
      "1. They don't, it is a web application so they only need a modern web browser\n",
      "\n",
      "2. Someone has to run the IPython Notebook server:\n",
      "\n",
      "\n",
      "In the cloud:\n",
      "\n",
      "- [PiCloud](http://www.picloud.com/platform/notebook/)\n",
      "- [Wakari](https://www.wakari.io/)\n",
      "- [StarCluster](http://star.mit.edu/cluster/)\n",
      "\n",
      "Double clickable installers:\n",
      "\n",
      "- Continuum's [Anaconda](https://store.continuum.io/cshop/anaconda/)\n",
      "- [Enthought Python Distribution (EPD)](https://enthought.com/products/epd/)\n",
      "- Enthought's [Canopy](https://enthought.com/products/canopy/)\n",
      "\n",
      "Python package managers:\n",
      "\n",
      "- pip\n",
      "- easy_install\n",
      "\n",
      "Linux package managers:\n",
      "\n",
      "- apt\n",
      "- yum\n",
      "\n",
      "From source (https://github.com/ipython/ipython)"
     ]
    },
    {
     "cell_type": "heading",
     "level": 2,
     "metadata": {},
     "source": [
      "What types of research steps can our tool capture?"
     ]
    },
    {
     "cell_type": "heading",
     "level": 3,
     "metadata": {},
     "source": [
      "Code"
     ]
    },
    {
     "cell_type": "markdown",
     "metadata": {},
     "source": [
      "The IPython Notebook is first and foremost an environment for writing and running code in many languages."
     ]
    },
    {
     "cell_type": "heading",
     "level": 4,
     "metadata": {},
     "source": [
      "Python"
     ]
    },
    {
     "cell_type": "markdown",
     "metadata": {},
     "source": [
      "Python code can be run interactively:"
     ]
    },
    {
     "cell_type": "code",
     "collapsed": false,
     "input": [
      "import time\n",
      "for i in range(10):\n",
      "    print i\n",
      "    time.sleep(1)"
     ],
     "language": "python",
     "metadata": {},
     "outputs": [
      {
       "output_type": "stream",
       "stream": "stdout",
       "text": [
        "0\n",
        "1"
       ]
      },
      {
       "output_type": "stream",
       "stream": "stdout",
       "text": [
        "\n",
        "2"
       ]
      },
      {
       "output_type": "stream",
       "stream": "stdout",
       "text": [
        "\n",
        "3"
       ]
      },
      {
       "output_type": "stream",
       "stream": "stdout",
       "text": [
        "\n",
        "4"
       ]
      },
      {
       "output_type": "stream",
       "stream": "stdout",
       "text": [
        "\n",
        "5"
       ]
      },
      {
       "output_type": "stream",
       "stream": "stdout",
       "text": [
        "\n",
        "6"
       ]
      },
      {
       "output_type": "stream",
       "stream": "stdout",
       "text": [
        "\n",
        "7"
       ]
      },
      {
       "output_type": "stream",
       "stream": "stdout",
       "text": [
        "\n",
        "8"
       ]
      },
      {
       "output_type": "stream",
       "stream": "stdout",
       "text": [
        "\n",
        "9"
       ]
      },
      {
       "output_type": "stream",
       "stream": "stdout",
       "text": [
        "\n"
       ]
      }
     ],
     "prompt_number": 2
    },
    {
     "cell_type": "markdown",
     "metadata": {},
     "source": [
      "We have integrated support for plotting with Matplotlib:"
     ]
    },
    {
     "cell_type": "code",
     "collapsed": false,
     "input": [
      "%pylab inline"
     ],
     "language": "python",
     "metadata": {},
     "outputs": [
      {
       "output_type": "stream",
       "stream": "stdout",
       "text": [
        "\n",
        "Welcome to pylab, a matplotlib-based Python environment [backend: module://IPython.kernel.zmq.pylab.backend_inline].\n",
        "For more information, type 'help(pylab)'.\n"
       ]
      }
     ],
     "prompt_number": 3
    },
    {
     "cell_type": "code",
     "collapsed": false,
     "input": [
      "scatter(rand(25),rand(25))"
     ],
     "language": "python",
     "metadata": {},
     "outputs": [
      {
       "metadata": {},
       "output_type": "pyout",
       "prompt_number": 4,
       "text": [
        "<matplotlib.collections.PathCollection at 0x108217b50>"
       ]
      },
      {
       "metadata": {},
       "output_type": "display_data",
       "png": "[encoded data removed]",
       "text": [
        "<matplotlib.figure.Figure at 0x108ea1890>"
       ]
      }
     ],
     "prompt_number": 4
    },
    {
     "cell_type": "heading",
     "level": 4,
     "metadata": {},
     "source": [
      "R"
     ]
    },
    {
     "cell_type": "markdown",
     "metadata": {},
     "source": [
      "Using IPython's cell magic syntax (`%%R`) you can run code in other languages such as R:"
     ]
    },
    {
     "cell_type": "code",
     "collapsed": false,
     "input": [
      "%load_ext rmagic"
     ],
     "language": "python",
     "metadata": {},
     "outputs": [],
     "prompt_number": 5
    },
    {
     "cell_type": "markdown",
     "metadata": {},
     "source": [
      "Create two Python arrays:"
     ]
    },
    {
     "cell_type": "code",
     "collapsed": false,
     "input": [
      "import numpy as np\n",
      "X = np.array([0,1,2,3,4])\n",
      "Y = np.array([3,5,4,6,7])"
     ],
     "language": "python",
     "metadata": {},
     "outputs": [],
     "prompt_number": 6
    },
    {
     "cell_type": "markdown",
     "metadata": {},
     "source": [
      "Make a scatter plot in Python:"
     ]
    },
    {
     "cell_type": "code",
     "collapsed": false,
     "input": [
      "scatter(X,Y)"
     ],
     "language": "python",
     "metadata": {},
     "outputs": [
      {
       "metadata": {},
       "output_type": "pyout",
       "prompt_number": 7,
       "text": [
        "<matplotlib.collections.PathCollection at 0x10cf35750>"
       ]
      },
      {
       "metadata": {},
       "output_type": "display_data",
       "png": "[encoded data removed]",
       "text": [
        "<matplotlib.figure.Figure at 0x1082063d0>"
       ]
      }
     ],
     "prompt_number": 7
    },
    {
     "cell_type": "markdown",
     "metadata": {},
     "source": [
      "Now pass those arrays to R and fit a linear model:"
     ]
    },
    {
     "cell_type": "code",
     "collapsed": false,
     "input": [
      "%%R -i X,Y -o XYcoef\n",
      "XYlm = lm(Y~X)\n",
      "XYcoef = coef(XYlm)\n",
      "print(summary(XYlm))\n",
      "par(mfrow=c(2,2))\n",
      "plot(XYlm)"
     ],
     "language": "python",
     "metadata": {},
     "outputs": [
      {
       "metadata": {},
       "output_type": "display_data",
       "text": [
        "\n",
        "Call:\n",
        "lm(formula = Y ~ X)\n",
        "\n",
        "Residuals:\n",
        "   1    2    3    4    5 \n",
        "-0.2  0.9 -1.0  0.1  0.2 \n",
        "\n",
        "Coefficients:\n",
        "            Estimate Std. Error t value Pr(>|t|)  \n",
        "(Intercept)   3.2000     0.6164   5.191   0.0139 *\n",
        "X             0.9000     0.2517   3.576   0.0374 *\n",
        "---\n",
        "Signif. codes:  0 \u2018***\u2019 0.001 \u2018**\u2019 0.01 \u2018*\u2019 0.05 \u2018.\u2019 0.1 \u2018 \u2019 1\n",
        "\n",
        "Residual standard error: 0.7958 on 3 degrees of freedom\n",
        "Multiple R-squared:   0.81,\tAdjusted R-squared:  0.7467 \n",
        "F-statistic: 12.79 on 1 and 3 DF,  p-value: 0.03739\n",
        "\n"
       ]
      },
      {
       "metadata": {},
       "output_type": "display_data",
       "png": "[encoded data removed]"
      }
     ],
     "prompt_number": 8
    },
    {
     "cell_type": "heading",
     "level": 4,
     "metadata": {},
     "source": [
      "Ruby"
     ]
    },
    {
     "cell_type": "code",
     "collapsed": false,
     "input": [
      "%%ruby\n",
      "puts \"Hello from Ruby #{RUBY_VERSION}\""
     ],
     "language": "python",
     "metadata": {},
     "outputs": [
      {
       "output_type": "stream",
       "stream": "stdout",
       "text": [
        "Hello from Ruby 1.8.7\n"
       ]
      }
     ],
     "prompt_number": 9
    },
    {
     "cell_type": "heading",
     "level": 4,
     "metadata": {},
     "source": [
      "Bash"
     ]
    },
    {
     "cell_type": "code",
     "collapsed": false,
     "input": [
      "%%bash\n",
      "echo \"hello from $BASH\""
     ],
     "language": "python",
     "metadata": {},
     "outputs": [
      {
       "output_type": "stream",
       "stream": "stdout",
       "text": [
        "hello from /bin/bash\n"
       ]
      }
     ],
     "prompt_number": 10
    },
    {
     "cell_type": "heading",
     "level": 4,
     "metadata": {},
     "source": [
      "Other languages"
     ]
    },
    {
     "cell_type": "markdown",
     "metadata": {},
     "source": [
      "The IPython notebook supports other languages through two routes:\n",
      "\n",
      "* Cell magics using the `%%language` syntax\n",
      "* Native kernels that speak the IPython message protocol\n",
      "\n",
      "Incomplete and growing list:\n",
      "\n",
      "* Perl\n",
      "* Cython\n",
      "* Octave\n",
      "* MATLAB\n",
      "* node.js\n",
      "* Julia\n",
      "* JavaScript"
     ]
    },
    {
     "cell_type": "heading",
     "level": 3,
     "metadata": {},
     "source": [
      "Descriptive text + Equations + HTML"
     ]
    },
    {
     "cell_type": "markdown",
     "metadata": {},
     "source": [
      "This is a block of descriptive text. It uses the popular Markdown syntax that is documented [here](http://daringfireball.net/projects/markdown/syntax). We have extended Markdown to understand LaTeX equations (using [MathJax](http://www.mathjax.org/)). If you are a physicist you might want to show Maxwell's equations:\n",
      "\n",
      "\\begin{aligned}\n",
      "\\nabla \\times \\vec{\\mathbf{B}} -\\, \\frac1c\\, \\frac{\\partial\\vec{\\mathbf{E}}}{\\partial t} & = \\frac{4\\pi}{c}\\vec{\\mathbf{j}} \\\\\n",
      "\\nabla \\cdot \\vec{\\mathbf{E}} & = 4 \\pi \\rho \\\\\n",
      "\\nabla \\times \\vec{\\mathbf{E}}\\, +\\, \\frac1c\\, \\frac{\\partial\\vec{\\mathbf{B}}}{\\partial t} & = \\vec{\\mathbf{0}} \\\\\n",
      "\\nabla \\cdot \\vec{\\mathbf{B}} & = 0 \\end{aligned}\n",
      "\n",
      "Or possibly some inline math, such as Newton's 2nd law, $\\vec{F} = m\\vec{a}$."
     ]
    },
    {
     "cell_type": "markdown",
     "metadata": {},
     "source": [
      "Markdown is a superset of HTML so you can also include arbitrary HTML in your text cells. This includes tables:\n",
      "\n",
      "<table>\n",
      "<tr>\n",
      "<th>Header 1</th>\n",
      "<th>Header 2</th>\n",
      "</tr>\n",
      "<tr>\n",
      "<td>row 1, cell 1</td>\n",
      "<td>row 1, cell 2</td>\n",
      "</tr>\n",
      "<tr>\n",
      "<td>row 2, cell 1</td>\n",
      "<td>row 2, cell 2</td>\n",
      "</tr>\n",
      "</table>\n",
      "\n",
      "And images from the internet or local file system:\n",
      "\n",
      "<img src=\"https://pbs.twimg.com/media/BBBnRcSCQAEcGg3.jpg:small\" width=400/>"
     ]
    },
    {
     "cell_type": "heading",
     "level": 3,
     "metadata": {},
     "source": [
      "Output"
     ]
    },
    {
     "cell_type": "markdown",
     "metadata": {},
     "source": [
      "When you run code, it can produce output. In IPython, the notion of output is very general and includes:\n",
      "\n",
      "* Text\n",
      "* Equations\n",
      "* Images\n",
      "* Videos\n",
      "* Figures\n",
      "* JavaScript widgets\n",
      "* HTML\n",
      "\n",
      "Objects can declare special logic that is used to render and display these different representations."
     ]
    },
    {
     "cell_type": "heading",
     "level": 4,
     "metadata": {},
     "source": [
      "Equations"
     ]
    },
    {
     "cell_type": "markdown",
     "metadata": {},
     "source": [
      "IPython has a `Math` object whose representation is a LaTeX formula. The Notebook detects that representation and renders it using MathJax:"
     ]
    },
    {
     "cell_type": "code",
     "collapsed": false,
     "input": [
      "from IPython.display import Math\n",
      "Math(r'F(k) = \\int_{-\\infty}^{\\infty} f(x) e^{2\\pi i k} dx')"
     ],
     "language": "python",
     "metadata": {},
     "outputs": [
      {
       "latex": [
        "$$F(k) = \\int_{-\\infty}^{\\infty} f(x) e^{2\\pi i k} dx$$"
       ],
       "metadata": {},
       "output_type": "pyout",
       "prompt_number": 11,
       "text": [
        "<IPython.core.display.Math at 0x10cf409d0>"
       ]
      }
     ],
     "prompt_number": 11
    },
    {
     "cell_type": "markdown",
     "metadata": {},
     "source": [
      "This enables libraries, such as SymPy, to provide nice LaTeX rendering in the Notebook of live computational objects:"
     ]
    },
    {
     "cell_type": "code",
     "collapsed": false,
     "input": [
      "%load_ext sympy.interactive.ipythonprinting"
     ],
     "language": "python",
     "metadata": {},
     "outputs": [],
     "prompt_number": 12
    },
    {
     "cell_type": "code",
     "collapsed": false,
     "input": [
      "from sympy import *\n",
      "x = symbols(\"x\")\n",
      "(1/cos(x)).series(x, 0, 10)"
     ],
     "language": "python",
     "metadata": {},
     "outputs": [
      {
       "latex": [
        "$$1 + \\frac{1}{2} x^{2} + \\frac{5}{24} x^{4} + \\frac{61}{720} x^{6} + \\frac{277}{8064} x^{8} + \\mathcal{O}\\left(x^{10}\\right)$$"
       ],
       "metadata": {},
       "output_type": "pyout",
       "png": "[encoded data removed]",
       "prompt_number": 13,
       "text": [
        "     2      4       6        8         \n",
        "    x    5\u22c5x    61\u22c5x    277\u22c5x     \u239b 10\u239e\n",
        "1 + \u2500\u2500 + \u2500\u2500\u2500\u2500 + \u2500\u2500\u2500\u2500\u2500 + \u2500\u2500\u2500\u2500\u2500\u2500 + O\u239dx  \u23a0\n",
        "    2     24     720     8064          "
       ]
      }
     ],
     "prompt_number": 13
    },
    {
     "cell_type": "heading",
     "level": 4,
     "metadata": {},
     "source": [
      "Images"
     ]
    },
    {
     "cell_type": "markdown",
     "metadata": {},
     "source": [
      "Objects can declare image representations that are rendered by the Notebook:"
     ]
    },
    {
     "cell_type": "code",
     "collapsed": false,
     "input": [
      "from IPython.display import Image\n",
      "Image('figures/logo.png')"
     ],
     "language": "python",
     "metadata": {},
     "outputs": []
    },
    {
     "cell_type": "heading",
     "level": 4,
     "metadata": {},
     "source": [
      "HTML"
     ]
    },
    {
     "cell_type": "markdown",
     "metadata": {},
     "source": [
      "Because the Notebook is a web application, we have access to the full power of HTML. HTML representations of objets are rendered in the Notebook by injecting the HTML into the DOM of the output area:"
     ]
    },
    {
     "cell_type": "code",
     "collapsed": false,
     "input": [
      "from IPython.display import HTML, display"
     ],
     "language": "python",
     "metadata": {},
     "outputs": []
    },
    {
     "cell_type": "code",
     "collapsed": false,
     "input": [
      "s = \"\"\"<table>\n",
      "<tr>\n",
      "<th>Header 1</th>\n",
      "<th>Header 2</th>\n",
      "</tr>\n",
      "<tr>\n",
      "<td>row 1, cell 1</td>\n",
      "<td>row 1, cell 2</td>\n",
      "</tr>\n",
      "<tr>\n",
      "<td>row 2, cell 1</td>\n",
      "<td>row 2, cell 2</td>\n",
      "</tr>\n",
      "</table>\"\"\""
     ],
     "language": "python",
     "metadata": {},
     "outputs": []
    },
    {
     "cell_type": "code",
     "collapsed": false,
     "input": [
      "h = HTML(s); display(h)"
     ],
     "language": "python",
     "metadata": {},
     "outputs": []
    },
    {
     "cell_type": "markdown",
     "metadata": {},
     "source": [
      "This enables third party libraries, such as Pandas, to provide nicely formatted HTML output of their objects:"
     ]
    },
    {
     "cell_type": "code",
     "collapsed": false,
     "input": [
      "import pandas\n",
      "pandas.core.format.set_printoptions(notebook_repr_html=True)"
     ],
     "language": "python",
     "metadata": {},
     "outputs": []
    },
    {
     "cell_type": "code",
     "collapsed": false,
     "input": [
      "%%file data.csv\n",
      "Date,Open,High,Low,Close,Volume,Adj Close\n",
      "2012-06-01,569.16,590.00,548.50,584.00,14077000,581.50\n",
      "2012-05-01,584.90,596.76,522.18,577.73,18827900,575.26\n",
      "2012-04-02,601.83,644.00,555.00,583.98,28759100,581.48\n",
      "2012-03-01,548.17,621.45,516.22,599.55,26486000,596.99\n",
      "2012-02-01,458.41,547.61,453.98,542.44,22001000,540.12\n",
      "2012-01-03,409.40,458.24,409.00,456.48,12949100,454.53"
     ],
     "language": "python",
     "metadata": {},
     "outputs": []
    },
    {
     "cell_type": "code",
     "collapsed": false,
     "input": [
      "df = pandas.read_csv('data.csv'); df"
     ],
     "language": "python",
     "metadata": {},
     "outputs": []
    },
    {
     "cell_type": "markdown",
     "metadata": {},
     "source": [
      "The possibilities are endless and our users are doing amazing things with these capabilities. Here we embed a YouTube video into the Notebook:"
     ]
    },
    {
     "cell_type": "code",
     "collapsed": false,
     "input": [
      "from IPython.display import YouTubeVideo\n",
      "YouTubeVideo('sjfsUzECqK0')"
     ],
     "language": "python",
     "metadata": {},
     "outputs": [
      {
       "html": [
        "\n",
        "        <iframe\n",
        "            width=\"400\"\n",
        "            height=300\"\n",
        "            src=\"http://www.youtube.com/embed/sjfsUzECqK0\"\n",
        "            frameborder=\"0\"\n",
        "            allowfullscreen\n",
        "        ></iframe>\n",
        "        "
       ],
       "metadata": {},
       "output_type": "pyout",
       "prompt_number": 14,
       "text": [
        "<IPython.lib.display.YouTubeVideo at 0x1133b5ad0>"
       ]
      }
     ],
     "prompt_number": 14
    },
    {
     "cell_type": "heading",
     "level": 4,
     "metadata": {},
     "source": [
      "JavaScript"
     ]
    },
    {
     "cell_type": "markdown",
     "metadata": {},
     "source": [
      "The JavaScript representation allows you to build objects that have interactivity in the browser:"
     ]
    },
    {
     "cell_type": "code",
     "collapsed": false,
     "input": [
      "from IPython.display import Javascript"
     ],
     "language": "python",
     "metadata": {},
     "outputs": [],
     "prompt_number": 15
    },
    {
     "cell_type": "code",
     "collapsed": false,
     "input": [
      "js=\"\"\"\n",
      "var rme = $('<button>Reproduce Me!</button>').\n",
      "    button().click(function () {\n",
      "        alert('Reproducing research...');\n",
      "    });\n",
      "$('#maintoolbar').append(rme);\n",
      "\"\"\"\n",
      "Javascript(js)"
     ],
     "language": "python",
     "metadata": {},
     "outputs": [
      {
       "javascript": [
        "\n",
        "var rme = $('<button>Reproduce Me!</button>').\n",
        "    button().click(function () {\n",
        "        alert('Reproducing research...');\n",
        "    });\n",
        "$('#maintoolbar').append(rme);\n"
       ],
       "metadata": {},
       "output_type": "pyout",
       "prompt_number": 16,
       "text": [
        "<IPython.core.display.Javascript at 0x1133b5a10>"
       ]
      }
     ],
     "prompt_number": 16
    },
    {
     "cell_type": "heading",
     "level": 2,
     "metadata": {},
     "source": [
      "How does our tool capture these steps?"
     ]
    },
    {
     "cell_type": "markdown",
     "metadata": {},
     "source": [
      "* A user types code and text into **cells**\n",
      "* Running the code produces **output**\n",
      "* We capture **everything** (code, text and output) automatically in a **notebook document**\n",
      "* Reproducibility is a side effect of simply using the tool\n",
      "* Notebook documents are stored as JSON files on your local file system\n",
      "* Notebook documents can be converted to static HTML, Markdown, blog posts, LaTeX/PDF, slideshows, etc."
     ]
    },
    {
     "cell_type": "heading",
     "level": 2,
     "metadata": {},
     "source": [
      "How are the steps represented?"
     ]
    },
    {
     "cell_type": "markdown",
     "metadata": {},
     "source": [
      "* Individual steps are represented as code or text cells\n",
      "* The overall workflow is represented as a linear sequence of cells"
     ]
    },
    {
     "cell_type": "heading",
     "level": 2,
     "metadata": {},
     "source": [
      "How portable are the workflows?"
     ]
    },
    {
     "cell_type": "heading",
     "level": 3,
     "metadata": {},
     "source": [
      "View"
     ]
    },
    {
     "cell_type": "markdown",
     "metadata": {},
     "source": [
      "To **view** a workflow, researchers can post their Notebook on any public website (GitHub!). Then, anyone else can view a static HTML rendering of the Notebook at:\n",
      "\n",
      "http://nbviewer.ipython.org\n",
      "\n",
      "This portability only requires a modern web browser."
     ]
    },
    {
     "cell_type": "heading",
     "level": 3,
     "metadata": {},
     "source": [
      "Run"
     ]
    },
    {
     "cell_type": "markdown",
     "metadata": {},
     "source": [
      "To **run** a workflow, users can download a Notebook and all of its assets and run it on their local system. The downloaded Notebook is live runnable code that can be changed easily and re-run for different parameters, models, datasets, etc. This requires:\n",
      "\n",
      "* Python\n",
      "* IPython and its dependencies (PyZMQ, tornado, jinja2, etc.)\n",
      "* The Notebook and its related assets (data, libraries)\n",
      "* Any additional dependencies the notebook has (GPUs, multicore, cluster, cloud, databases, etc.)\n",
      "\n",
      "The Notebook runs on all of the major operating systems, and all recent versions of Python. You can run the IPython Notebook in the cloud or on a supercomputer."
     ]
    },
    {
     "cell_type": "heading",
     "level": 2,
     "metadata": {},
     "source": [
      "How does the tool support sharing and collaboration?"
     ]
    },
    {
     "cell_type": "markdown",
     "metadata": {},
     "source": [
      "Sharing and collaboration are important aspects of reproducibility. How does this relate to the Notebook?\n",
      "\n",
      "* Distributed version control systems, in particular Git/GitHub, have transformed the sharing of and collaboration on code. Let's not reinvent that!\n",
      "* We have gone to great lengths to make sure that the Notebook document format is version control friendly. If you change a single line of code in the Notebook, it will lead to a single line diff.\n",
      "* This opens up the full collaboration model of Git/GitHub for Notebooks. If you post your Notebooks on GitHub, I can fork/clone your repo and submit pull requests!\n",
      "* Researchers are sharing their Notebooks on GitHub and providing links to the rendered versions at http://nbviewer.ipython.org/\n",
      "* GitHub and nbviewer URLs are emerging as a natural way to share and link to computational research."
     ]
    },
    {
     "cell_type": "heading",
     "level": 2,
     "metadata": {},
     "source": [
      "Does your tool provide support for archival and longevity?"
     ]
    },
    {
     "cell_type": "markdown",
     "metadata": {},
     "source": [
      "We have designed the Notebook document format with longevity in mind:\n",
      "\n",
      "* It is an open format with a test suite\n",
      "* The format is versioned to allow us to evolve the format over time while providing forward compatibility. That Notebook you wrote 10 years ago will always be readible.\n",
      "* The format is based on open data formats: JSON, JPEG, PNG, HTML, etc.\n",
      "* It is a simple, non-binary format. This means it is trivial to read, write, modify Notebook document programmatically from any language\n",
      "\n",
      "The Notebook does not explicitly address archival questions. But version control systems are great for this!"
     ]
    },
    {
     "cell_type": "markdown",
     "metadata": {},
     "source": [
      "---"
     ]
    },
    {
     "cell_type": "heading",
     "level": 1,
     "metadata": {},
     "source": [
      "Other information"
     ]
    },
    {
     "cell_type": "heading",
     "level": 2,
     "metadata": {
      "slideshow": {
       "slide_type": "slide"
      }
     },
     "source": [
      "The IPython project"
     ]
    },
    {
     "cell_type": "markdown",
     "metadata": {
      "slideshow": {
       "slide_type": "-"
      }
     },
     "source": [
      "<img src=\"files/figures/logo.png\" width=400/>"
     ]
    },
    {
     "cell_type": "markdown",
     "metadata": {},
     "source": [
      "* [IPython](http://ipython.org): open source (BSD) interactive computing environment in Python\n",
      "* History:\n",
      "    - Started in 2001 by Fernando Perez (BDFL)\n",
      "    - The project now has an [extremely dedicated and talented team](https://github.com/ipython/ipython/contributors)\n",
      "* $>$ 20 person years of development, $>$ 150 contributors\n",
      "* IPython is the de facto standard environment for interactive work in Python\n",
      "* Funded by:\n",
      "    - Mostly by volunteers\n",
      "    - NASA, DOD/DRC, NIH\n",
      "    - Microsoft, Enthought\n",
      "    - Alfred P. Sloan Foundation ($1.15 million dollar grant starting in Jan. 2013)\n",
      "* Components:\n",
      "    - IPython Kernel\n",
      "        - Stateful computation engine\n",
      "        - Runs code and returns results\n",
      "        - Uses language agnostic JSON based message protocol over ZeroMQ/WebSockets\n",
      "    - Frontends:\n",
      "        - Terminal Console\n",
      "        - Qt Console\n",
      "        - Notebook\n",
      "    - Parallel computing framework"
     ]
    },
    {
     "cell_type": "heading",
     "level": 2,
     "metadata": {
      "slideshow": {
       "slide_type": "slide"
      }
     },
     "source": [
      "Example Notebooks"
     ]
    },
    {
     "cell_type": "markdown",
     "metadata": {},
     "source": [
      "Here are the official [IPython Demo Notebooks](https://github.com/ipython/ipython/tree/master/examples/notebooks#a-collection-of-notebooks-for-using-ipython-effectively) that go into more detail about the capabilities of the Notebook.\n",
      "\n",
      "\n",
      "We have collected highlights of user's work in our [notebook gallery](https://github.com/ipython/ipython/wiki/A-gallery-of-interesting-IPython-Notebooks)"
     ]
    },
    {
     "cell_type": "heading",
     "level": 2,
     "metadata": {
      "slideshow": {
       "slide_type": "slide"
      }
     },
     "source": [
      "The future"
     ]
    },
    {
     "cell_type": "markdown",
     "metadata": {},
     "source": [
      "* Notebook conversion (2012)\n",
      "    - To and from a wide range of formats\n",
      "    - HTML, LaTeX, PDF, Markdown, reStructured Text\n",
      "* Interactive widgets (2012)\n",
      "    - The IPython kernel already knows how to send JSON representations of objects to the browser\n",
      "    - We are developing an architecture that will allow interactive JavaScript widgets and Python objects to pass JSON data back and forth.\n",
      "    - Imagine all of your d3 visualizations backed by the power of Python/NumPy/SciPy/Pandas/etc.\n",
      "    - Automatic generation of UI controls\n",
      "* Multiuser Notebook server (2013)\n",
      "    - Small to medium groups of users\n",
      "    - Trusted users - you would give these folks shell accounts\n",
      "\n",
      "See our [development roadmap](https://github.com/ipython/ipython/wiki/Roadmap:-IPython) for details"
     ]
    }
   ],
   "metadata": {}
  }
 ]
}